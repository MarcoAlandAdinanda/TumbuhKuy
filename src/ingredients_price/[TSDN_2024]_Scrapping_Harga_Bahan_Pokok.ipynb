{
  "cells": [
    {
      "cell_type": "markdown",
      "metadata": {
        "id": "XYFLi6Gb08eB"
      },
      "source": [
        "## Data Mining from Badan Pangan Nasional\n",
        "Mine the price of each food ingredients for each Kabupaten in Indonesia"
      ]
    },
    {
      "cell_type": "markdown",
      "metadata": {
        "id": "jDeVxSAa1c6v"
      },
      "source": [
        "### 0. Importing dependencies"
      ]
    },
    {
      "cell_type": "code",
      "execution_count": 15,
      "metadata": {
        "id": "w-MGMy5GxxSF"
      },
      "outputs": [],
      "source": [
        "import requests, json\n",
        "import pandas as pd\n",
        "import numpy as np\n",
        "from typing import Dict\n",
        "from datetime import datetime, timedelta"
      ]
    },
    {
      "cell_type": "markdown",
      "metadata": {},
      "source": [
        "Datetime function to fetch realtime data"
      ]
    },
    {
      "cell_type": "code",
      "execution_count": 16,
      "metadata": {
        "id": "Ou4eqezU2Lye"
      },
      "outputs": [
        {
          "name": "stdout",
          "output_type": "stream",
          "text": [
            "Datetime used: 20-10-2024/27-10-2024\n"
          ]
        }
      ],
      "source": [
        "def get_api_date() -> str:\n",
        "  current_time = datetime.now()\n",
        "  week_before = current_time - timedelta(days=7)\n",
        "\n",
        "  current_date = current_time.strftime(\"%d-%m-%Y\")\n",
        "  week_before_date = week_before.strftime(\"%d-%m-%Y\")\n",
        "\n",
        "  api_date = week_before_date + \"/\" + current_date\n",
        "  return api_date\n",
        "\n",
        "api_date = get_api_date()\n",
        "print(\"Datetime used:\", api_date)"
      ]
    },
    {
      "cell_type": "code",
      "execution_count": 30,
      "metadata": {},
      "outputs": [],
      "source": [
        "def save_id_json(save_data: Dict, save_name: str) -> json:\n",
        "    with open(save_name, 'w') as f:\n",
        "        json.dump(save_data, f)\n",
        "\n",
        "def load_id_json(json_file: str) -> Dict:\n",
        "    with open(json_file, 'r') as f:\n",
        "        return json.load(f)"
      ]
    },
    {
      "cell_type": "markdown",
      "metadata": {
        "id": "jLHXUyJHwX7b"
      },
      "source": [
        "## 1. Get Each Provinsi Id"
      ]
    },
    {
      "cell_type": "code",
      "execution_count": 17,
      "metadata": {
        "id": "5EZqqolktz--"
      },
      "outputs": [
        {
          "data": {
            "text/plain": [
              "{'Aceh': 1,\n",
              " 'Sumatera Utara': 2,\n",
              " 'Sumatera Barat': 3,\n",
              " 'Riau': 4,\n",
              " 'Jambi': 5,\n",
              " 'Sumatera Selatan': 6,\n",
              " 'Bengkulu': 7,\n",
              " 'Lampung': 8,\n",
              " 'Kepulauan Bangka Belitung': 9,\n",
              " 'Kepulauan Riau': 10,\n",
              " 'DKI Jakarta': 11,\n",
              " 'Jawa Barat': 12,\n",
              " 'Jawa Tengah': 13,\n",
              " 'D.I Yogyakarta': 14,\n",
              " 'Jawa Timur': 15,\n",
              " 'Banten': 16,\n",
              " 'Bali': 17,\n",
              " 'Nusa Tenggara Barat': 18,\n",
              " 'Nusa Tenggara Timur': 19,\n",
              " 'Kalimantan Barat': 20,\n",
              " 'Kalimantan Tengah': 21,\n",
              " 'Kalimantan Selatan': 22,\n",
              " 'Kalimantan Timur': 23,\n",
              " 'Kalimantan Utara': 24,\n",
              " 'Sulawesi Utara': 25,\n",
              " 'Sulawesi Tengah': 26,\n",
              " 'Sulawesi Selatan': 27,\n",
              " 'Sulawesi Tenggara': 28,\n",
              " 'Gorontalo': 29,\n",
              " 'Sulawesi Barat': 30,\n",
              " 'Maluku': 31,\n",
              " 'Maluku Utara': 32,\n",
              " 'Papua Barat': 33,\n",
              " 'Papua': 34,\n",
              " 'Papua Barat Daya': 35,\n",
              " 'Papua Pegunungan': 36,\n",
              " 'Papua Tengah': 37,\n",
              " 'Papua Selatan': 38}"
            ]
          },
          "execution_count": 17,
          "metadata": {},
          "output_type": "execute_result"
        }
      ],
      "source": [
        "def get_prov_id(api_date: str) -> Dict:\n",
        "  api_prov_id = \"https://panelharga.badanpangan.go.id/data/provinsi-by-levelharga/3/{}\".format(api_date)\n",
        "  id_prov_json = requests.get(api_prov_id).json()\n",
        "\n",
        "  prov_id = {}\n",
        "  for prov in id_prov_json['data']:\n",
        "      prov_id[prov['nama']] = prov['id']\n",
        "\n",
        "  return prov_id\n",
        "\n",
        "province_dataset = get_prov_id(api_date)\n",
        "\n",
        "province_dataset"
      ]
    },
    {
      "cell_type": "markdown",
      "metadata": {
        "id": "UAmgGXGHwiI6"
      },
      "source": [
        "### 2. Get Each Kabupaten Id"
      ]
    },
    {
      "cell_type": "code",
      "execution_count": 51,
      "metadata": {},
      "outputs": [],
      "source": [
        "def get_kab_id(id: int) -> Dict:\n",
        "  api_kab_id = \"https://panelharga.badanpangan.go.id/data/kabkota-by-levelharga/3/{}/{}\".format(id, api_date)\n",
        "  id_kab_json = requests.get(api_kab_id).json()\n",
        "\n",
        "  kab_id = {}\n",
        "\n",
        "  for kab in id_kab_json['data']:\n",
        "    kab_id[kab['nama']] = kab['id']\n",
        "\n",
        "  return kab_id"
      ]
    },
    {
      "cell_type": "code",
      "execution_count": 22,
      "metadata": {},
      "outputs": [],
      "source": [
        "def get_kab_id_2(id: int, province_dataset) -> Dict:\n",
        "  kab_id = {}\n",
        "  # counter = 0\n",
        "  for province_id in province_dataset.values():\n",
        "    api_kab_id = \"https://panelharga.badanpangan.go.id/data/kabkota-by-levelharga/3/{}/{}\".format(province_id, api_date)\n",
        "    id_kab_json = requests.get(api_kab_id).json()\n",
        "\n",
        "    kab_each_prov = {}\n",
        "    for kab in id_kab_json['data']:\n",
        "      kab_each_prov[kab['nama']] = kab['id']\n",
        "    \n",
        "    kab_id = kab_id | kab_each_prov\n",
        "\n",
        "    # counter += 1\n",
        "    # if counter  > 5: return kab_id \n",
        "\n",
        "  return kab_id"
      ]
    },
    {
      "cell_type": "code",
      "execution_count": 23,
      "metadata": {},
      "outputs": [],
      "source": [
        "kab_id = get_kab_id_2(2, province_dataset)"
      ]
    },
    {
      "cell_type": "code",
      "execution_count": 31,
      "metadata": {},
      "outputs": [],
      "source": [
        "save_id_json(kab_id, \"kab_id.json\")"
      ]
    },
    {
      "cell_type": "code",
      "execution_count": 21,
      "metadata": {},
      "outputs": [
        {
          "data": {
            "text/plain": [
              "{'Kab. Aceh Barat': 7,\n",
              " 'Kab. Aceh Barat Daya': 12,\n",
              " 'Kab. Aceh Besar': 8,\n",
              " 'Kab. Aceh Jaya': 16,\n",
              " 'Kab. Aceh Selatan': 3,\n",
              " 'Kab. Aceh Singkil': 2,\n",
              " 'Kab. Aceh Tamiang': 14,\n",
              " 'Kab. Aceh Tengah': 6,\n",
              " 'Kab. Aceh Tenggara': 4,\n",
              " 'Kab. Aceh Timur': 5,\n",
              " 'Kab. Aceh Utara': 11,\n",
              " 'Kab. Bener Meriah': 17,\n",
              " 'Kab. Bireuen': 10,\n",
              " 'Kab. Gayo Lues': 13,\n",
              " 'Kab. Nagan Raya': 15,\n",
              " 'Kab. Pidie': 9,\n",
              " 'Kab. Pidie Jaya': 18,\n",
              " 'Kab. Simeulue': 1,\n",
              " 'Kota Banda Aceh': 19,\n",
              " 'Kota Langsa': 21,\n",
              " 'Kota Lhokseumawe': 22,\n",
              " 'Kota Sabang': 20,\n",
              " 'Kota Subulussalam': 23,\n",
              " 'Kab. Asahan': 31,\n",
              " 'Kab. Batu Bara': 42,\n",
              " 'Kab. Dairi': 33,\n",
              " 'Kab. Deli Serdang': 35,\n",
              " 'Kab. Humbang Hasundutan': 38,\n",
              " 'Kab. Karo': 34,\n",
              " 'Kab. Labuhan Batu': 30,\n",
              " 'Kab. Labuhan Batu Selatan': 45,\n",
              " 'Kab. Labuhan Batu Utara': 46,\n",
              " 'Kab. Langkat': 36,\n",
              " 'Kab. Mandailing Natal': 25,\n",
              " 'Kab. Nias': 24,\n",
              " 'Kab. Nias Barat': 48,\n",
              " 'Kab. Nias Selatan': 37,\n",
              " 'Kab. Nias Utara': 47,\n",
              " 'Kab. Padang Lawas': 44,\n",
              " 'Kab. Padang Lawas Utara': 43,\n",
              " 'Kab. Pakpak Bharat': 39,\n",
              " 'Kab. Samosir': 40,\n",
              " 'Kab. Serdang Bedagai': 41,\n",
              " 'Kab. Simalungun': 32,\n",
              " 'Kab. Tapanuli Selatan': 26,\n",
              " 'Kab. Tapanuli Tengah': 27,\n",
              " 'Kab. Tapanuli Utara': 28,\n",
              " 'Kab. Toba': 29,\n",
              " 'Kota Binjai': 54,\n",
              " 'Kota Gunungsitoli': 56,\n",
              " 'Kota Medan': 53,\n",
              " 'Kota Padangsidimpuan': 55,\n",
              " 'Kota Pematangsiantar': 51,\n",
              " 'Kota Sibolga': 49,\n",
              " 'Kota Tanjung Balai': 50,\n",
              " 'Kota Tebing Tinggi': 52,\n",
              " 'Kab. Agam': 63,\n",
              " 'Kab. Dharmasraya': 67,\n",
              " 'Kab. Kepulauan Mentawai': 57,\n",
              " 'Kab. Lima Puluh Kota': 64,\n",
              " 'Kab. Padang Pariaman': 62,\n",
              " 'Kab. Pasaman': 65,\n",
              " 'Kab. Pasaman Barat': 68,\n",
              " 'Kab. Pesisir Selatan': 58,\n",
              " 'Kab. Sijunjung': 60,\n",
              " 'Kab. Solok': 59,\n",
              " 'Kab. Solok Selatan': 66,\n",
              " 'Kab. Tanah Datar': 61,\n",
              " 'Kota Bukittinggi': 73,\n",
              " 'Kota Padang': 69,\n",
              " 'Kota Padang Panjang': 72,\n",
              " 'Kota Pariaman': 75,\n",
              " 'Kota Payakumbuh': 74,\n",
              " 'Kota Sawahlunto': 71,\n",
              " 'Kota Solok': 70,\n",
              " 'Kab. Bengkalis': 83,\n",
              " 'Kab. Indragiri Hilir': 78,\n",
              " 'Kab. Indragiri Hulu': 77,\n",
              " 'Kab. Kampar': 81,\n",
              " 'Kab. Kepulauan Meranti': 85,\n",
              " 'Kab. Kuantan Singingi': 76,\n",
              " 'Kab. Pelalawan': 79,\n",
              " 'Kab. Rokan Hilir': 84,\n",
              " 'Kab. Rokan Hulu': 82,\n",
              " 'Kab. S I A K': 80,\n",
              " 'Kota D U M A I': 87,\n",
              " 'Kota Pekanbaru': 86,\n",
              " 'Kab. Batang Hari': 91,\n",
              " 'Kab. Bungo': 96,\n",
              " 'Kab. Kerinci': 88,\n",
              " 'Kab. Merangin': 89,\n",
              " 'Kab. Muaro Jambi': 92,\n",
              " 'Kab. Sarolangun': 90,\n",
              " 'Kab. Tanjung Jabung Barat': 94,\n",
              " 'Kab. Tanjung Jabung Timur': 93,\n",
              " 'Kab. Tebo': 95,\n",
              " 'Kota Jambi': 97,\n",
              " 'Kota Sungai Penuh': 98,\n",
              " 'Kab. Banyu Asin': 105,\n",
              " 'Kab. Empat Lawang': 109,\n",
              " 'Kab. Lahat': 102,\n",
              " 'Kab. Muara Enim': 101,\n",
              " 'Kab. Musi Banyuasin': 104,\n",
              " 'Kab. Musi Rawas': 103,\n",
              " 'Kab. Musi Rawas Utara': 501,\n",
              " 'Kab. Ogan Ilir': 108,\n",
              " 'Kab. Ogan Komering Ilir': 100,\n",
              " 'Kab. Ogan Komering Ulu': 99,\n",
              " 'Kab. Ogan Komering Ulu Selatan': 106,\n",
              " 'Kab. Ogan Komering Ulu Timur': 107,\n",
              " 'Kab. Penukal Abab Lematang Ilir': 500,\n",
              " 'Kota Lubuk Linggau': 113,\n",
              " 'Kota Pagar Alam': 112,\n",
              " 'Kota Palembang': 110,\n",
              " 'Kota Prabumulih': 111}"
            ]
          },
          "execution_count": 21,
          "metadata": {},
          "output_type": "execute_result"
        }
      ],
      "source": [
        "kab_id"
      ]
    },
    {
      "cell_type": "code",
      "execution_count": 23,
      "metadata": {},
      "outputs": [],
      "source": [
        "for province in province_dataset.keys():\n",
        "    province_dataset[province] = get_kab_id(province_dataset[province])"
      ]
    },
    {
      "cell_type": "code",
      "execution_count": 7,
      "metadata": {},
      "outputs": [],
      "source": []
    },
    {
      "cell_type": "markdown",
      "metadata": {
        "id": "UeebsLDQ8T9J"
      },
      "source": [
        "### 3. Get Data Each Kabupaten"
      ]
    },
    {
      "cell_type": "code",
      "execution_count": 8,
      "metadata": {},
      "outputs": [],
      "source": [
        "data = load_id_json(\"region_id.json\")"
      ]
    },
    {
      "cell_type": "code",
      "execution_count": 13,
      "metadata": {},
      "outputs": [],
      "source": [
        "df = pd.DataFrame([\n",
        "    {'Province': province, 'District': district, 'Value': value}\n",
        "    for province, districts in data.items()\n",
        "    for district, value in districts.items()\n",
        "])"
      ]
    },
    {
      "cell_type": "code",
      "execution_count": 14,
      "metadata": {},
      "outputs": [
        {
          "data": {
            "text/html": [
              "<div>\n",
              "<style scoped>\n",
              "    .dataframe tbody tr th:only-of-type {\n",
              "        vertical-align: middle;\n",
              "    }\n",
              "\n",
              "    .dataframe tbody tr th {\n",
              "        vertical-align: top;\n",
              "    }\n",
              "\n",
              "    .dataframe thead th {\n",
              "        text-align: right;\n",
              "    }\n",
              "</style>\n",
              "<table border=\"1\" class=\"dataframe\">\n",
              "  <thead>\n",
              "    <tr style=\"text-align: right;\">\n",
              "      <th></th>\n",
              "      <th>Province</th>\n",
              "      <th>District</th>\n",
              "      <th>Value</th>\n",
              "    </tr>\n",
              "  </thead>\n",
              "  <tbody>\n",
              "    <tr>\n",
              "      <th>0</th>\n",
              "      <td>Aceh</td>\n",
              "      <td>Kab. Aceh Barat</td>\n",
              "      <td>7</td>\n",
              "    </tr>\n",
              "    <tr>\n",
              "      <th>1</th>\n",
              "      <td>Aceh</td>\n",
              "      <td>Kab. Aceh Barat Daya</td>\n",
              "      <td>12</td>\n",
              "    </tr>\n",
              "    <tr>\n",
              "      <th>2</th>\n",
              "      <td>Aceh</td>\n",
              "      <td>Kab. Aceh Besar</td>\n",
              "      <td>8</td>\n",
              "    </tr>\n",
              "    <tr>\n",
              "      <th>3</th>\n",
              "      <td>Aceh</td>\n",
              "      <td>Kab. Aceh Jaya</td>\n",
              "      <td>16</td>\n",
              "    </tr>\n",
              "    <tr>\n",
              "      <th>4</th>\n",
              "      <td>Aceh</td>\n",
              "      <td>Kab. Aceh Selatan</td>\n",
              "      <td>3</td>\n",
              "    </tr>\n",
              "    <tr>\n",
              "      <th>...</th>\n",
              "      <td>...</td>\n",
              "      <td>...</td>\n",
              "      <td>...</td>\n",
              "    </tr>\n",
              "    <tr>\n",
              "      <th>492</th>\n",
              "      <td>Papua Tengah</td>\n",
              "      <td>Kab. Intan Jaya</td>\n",
              "      <td>497</td>\n",
              "    </tr>\n",
              "    <tr>\n",
              "      <th>493</th>\n",
              "      <td>Papua Tengah</td>\n",
              "      <td>Kab. Mimika</td>\n",
              "      <td>479</td>\n",
              "    </tr>\n",
              "    <tr>\n",
              "      <th>494</th>\n",
              "      <td>Papua Tengah</td>\n",
              "      <td>Kab. Nabire</td>\n",
              "      <td>474</td>\n",
              "    </tr>\n",
              "    <tr>\n",
              "      <th>495</th>\n",
              "      <td>Papua Tengah</td>\n",
              "      <td>Kab. Puncak Jaya</td>\n",
              "      <td>478</td>\n",
              "    </tr>\n",
              "    <tr>\n",
              "      <th>496</th>\n",
              "      <td>Papua Selatan</td>\n",
              "      <td>Kab. Merauke</td>\n",
              "      <td>471</td>\n",
              "    </tr>\n",
              "  </tbody>\n",
              "</table>\n",
              "<p>497 rows × 3 columns</p>\n",
              "</div>"
            ],
            "text/plain": [
              "          Province              District  Value\n",
              "0             Aceh       Kab. Aceh Barat      7\n",
              "1             Aceh  Kab. Aceh Barat Daya     12\n",
              "2             Aceh       Kab. Aceh Besar      8\n",
              "3             Aceh        Kab. Aceh Jaya     16\n",
              "4             Aceh     Kab. Aceh Selatan      3\n",
              "..             ...                   ...    ...\n",
              "492   Papua Tengah       Kab. Intan Jaya    497\n",
              "493   Papua Tengah           Kab. Mimika    479\n",
              "494   Papua Tengah           Kab. Nabire    474\n",
              "495   Papua Tengah      Kab. Puncak Jaya    478\n",
              "496  Papua Selatan          Kab. Merauke    471\n",
              "\n",
              "[497 rows x 3 columns]"
            ]
          },
          "execution_count": 14,
          "metadata": {},
          "output_type": "execute_result"
        }
      ],
      "source": [
        "df"
      ]
    },
    {
      "cell_type": "code",
      "execution_count": 37,
      "metadata": {
        "id": "Dtv8w50U8707"
      },
      "outputs": [],
      "source": [
        "def get_cost_kab(id_kab: int) -> Dict:\n",
        "  api_cost_kab = \"https://panelharga.badanpangan.go.id/data/kabkota-range-by-levelharga/{}/3/{}\".format(id_kab, api_date)\n",
        "  cost_kab_json = requests.get(api_cost_kab).json()\n",
        "\n",
        "  cost_kab = {}\n",
        "\n",
        "  for costs in cost_kab_json['data']:\n",
        "    cost_kab[costs['name']] = [cost['geomean'] for cost in costs['by_date']]\n",
        "\n",
        "  return cost_kab"
      ]
    },
    {
      "cell_type": "code",
      "execution_count": 41,
      "metadata": {},
      "outputs": [],
      "source": [
        "def get_ingredients_cost(ingredient: str):\n",
        "    return get_cost_kab(188)[ingredient]"
      ]
    },
    {
      "cell_type": "code",
      "execution_count": 45,
      "metadata": {},
      "outputs": [],
      "source": [
        "test_log = get_ingredients_cost(\"Beras Premium\")"
      ]
    },
    {
      "cell_type": "code",
      "execution_count": 46,
      "metadata": {},
      "outputs": [
        {
          "data": {
            "text/plain": [
              "[14500, 14500, 14500, 14500, 14500, 14500, 14500, 14500]"
            ]
          },
          "execution_count": 46,
          "metadata": {},
          "output_type": "execute_result"
        }
      ],
      "source": [
        "test_log"
      ]
    },
    {
      "cell_type": "code",
      "execution_count": 39,
      "metadata": {
        "colab": {
          "base_uri": "https://localhost:8080/"
        },
        "id": "G1eIrItMGKDw",
        "outputId": "2a396c24-f549-47c9-c6f7-9d2c21053245"
      },
      "outputs": [
        {
          "data": {
            "text/plain": [
              "[14500, 14500, 14500, 14500, 14500, 14500, 14500, 14500]"
            ]
          },
          "execution_count": 39,
          "metadata": {},
          "output_type": "execute_result"
        }
      ],
      "source": [
        "get_cost_kab(188)[\"Beras Premium\"]"
      ]
    },
    {
      "cell_type": "markdown",
      "metadata": {
        "id": "ej1rBo_EOAvA"
      },
      "source": [
        "### 4. Implementation"
      ]
    },
    {
      "cell_type": "markdown",
      "metadata": {
        "id": "rl1lkj4WOEeI"
      },
      "source": [
        "E.g. We want to get the chicken egg price on Kab. Banyumas Jawa Tengah with python code."
      ]
    },
    {
      "cell_type": "code",
      "execution_count": 60,
      "metadata": {
        "id": "FADr9n-tGXjO"
      },
      "outputs": [],
      "source": [
        "class PriceKabupaten:\n",
        "    def __init__(self, kabupaten_name: str, kab_data: Dict) -> None:\n",
        "        self.kab_name_ : str  = \"Kab. \" + kabupaten_name\n",
        "        self.kab_id_   : int  = kab_data[self.kab_name_]\n",
        "        self.api_date_ : str  = get_api_date()\n",
        "        self.api_cost_ : str  = \"https://panelharga.badanpangan.go.id/data/kabkota-range-by-levelharga/{}/3/{}\".format(self.kab_id_, self.api_date_)\n",
        "        self.prices    : Dict = {}\n",
        "    \n",
        "    def get_ingredients_cost(self, ingredient: str) -> Dict:\n",
        "        cost_json = requests.get(self.api_cost_).json()\n",
        "\n",
        "        for costs in cost_json['data']:\n",
        "            self.prices[costs['name']] = [cost['geomean'] for cost in costs['by_date']]\n",
        "\n",
        "        return self.prices[ingredient]"
      ]
    },
    {
      "cell_type": "code",
      "execution_count": 61,
      "metadata": {},
      "outputs": [],
      "source": [
        "jawa_tengah = PriceKabupaten(\"Banyumas\", kab_id)"
      ]
    },
    {
      "cell_type": "code",
      "execution_count": 62,
      "metadata": {},
      "outputs": [
        {
          "data": {
            "text/plain": [
              "[14250, 14250, 14250, 14490, 14490, 14490, 14490, 14490]"
            ]
          },
          "execution_count": 62,
          "metadata": {},
          "output_type": "execute_result"
        }
      ],
      "source": [
        "jawa_tengah.get_ingredients_cost('Beras Premium')"
      ]
    },
    {
      "cell_type": "markdown",
      "metadata": {},
      "source": [
        "Clean up the codes"
      ]
    },
    {
      "cell_type": "code",
      "execution_count": 32,
      "metadata": {},
      "outputs": [
        {
          "data": {
            "text/plain": [
              "187"
            ]
          },
          "execution_count": 32,
          "metadata": {},
          "output_type": "execute_result"
        }
      ],
      "source": [
        "kab_id[\"Kab. Banyumas\"]"
      ]
    },
    {
      "cell_type": "markdown",
      "metadata": {},
      "source": []
    }
  ],
  "metadata": {
    "colab": {
      "provenance": []
    },
    "kernelspec": {
      "display_name": "pytorch",
      "language": "python",
      "name": "python3"
    },
    "language_info": {
      "codemirror_mode": {
        "name": "ipython",
        "version": 3
      },
      "file_extension": ".py",
      "mimetype": "text/x-python",
      "name": "python",
      "nbconvert_exporter": "python",
      "pygments_lexer": "ipython3",
      "version": "3.10.13"
    }
  },
  "nbformat": 4,
  "nbformat_minor": 0
}
