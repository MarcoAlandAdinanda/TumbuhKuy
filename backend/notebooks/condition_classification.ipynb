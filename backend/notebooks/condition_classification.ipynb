{
 "cells": [
  {
   "cell_type": "markdown",
   "metadata": {},
   "source": [
    "## TumbuhKuy Condition Classification"
   ]
  },
  {
   "cell_type": "markdown",
   "metadata": {},
   "source": [
    "### 0. Importiing dependencies and dataset"
   ]
  },
  {
   "cell_type": "code",
   "execution_count": 1,
   "metadata": {},
   "outputs": [
    {
     "data": {
      "text/html": [
       "<div>\n",
       "<style scoped>\n",
       "    .dataframe tbody tr th:only-of-type {\n",
       "        vertical-align: middle;\n",
       "    }\n",
       "\n",
       "    .dataframe tbody tr th {\n",
       "        vertical-align: top;\n",
       "    }\n",
       "\n",
       "    .dataframe thead th {\n",
       "        text-align: right;\n",
       "    }\n",
       "</style>\n",
       "<table border=\"1\" class=\"dataframe\">\n",
       "  <thead>\n",
       "    <tr style=\"text-align: right;\">\n",
       "      <th></th>\n",
       "      <th>Gender</th>\n",
       "      <th>Tahun</th>\n",
       "      <th>Bulan</th>\n",
       "      <th>-3 SD</th>\n",
       "      <th>-2 SD</th>\n",
       "      <th>-1 SD</th>\n",
       "      <th>Median</th>\n",
       "      <th>+1 SD</th>\n",
       "      <th>+2 SD</th>\n",
       "      <th>+3 SD</th>\n",
       "    </tr>\n",
       "  </thead>\n",
       "  <tbody>\n",
       "    <tr>\n",
       "      <th>0</th>\n",
       "      <td>Perempuan</td>\n",
       "      <td>0</td>\n",
       "      <td>0</td>\n",
       "      <td>10.1</td>\n",
       "      <td>11.1</td>\n",
       "      <td>12.2</td>\n",
       "      <td>13.3</td>\n",
       "      <td>14.6</td>\n",
       "      <td>16.1</td>\n",
       "      <td>17.7</td>\n",
       "    </tr>\n",
       "    <tr>\n",
       "      <th>1</th>\n",
       "      <td>Perempuan</td>\n",
       "      <td>0</td>\n",
       "      <td>1</td>\n",
       "      <td>10.8</td>\n",
       "      <td>12.0</td>\n",
       "      <td>13.2</td>\n",
       "      <td>14.6</td>\n",
       "      <td>16.0</td>\n",
       "      <td>17.5</td>\n",
       "      <td>19.1</td>\n",
       "    </tr>\n",
       "    <tr>\n",
       "      <th>2</th>\n",
       "      <td>Perempuan</td>\n",
       "      <td>0</td>\n",
       "      <td>2</td>\n",
       "      <td>11.8</td>\n",
       "      <td>13.0</td>\n",
       "      <td>14.3</td>\n",
       "      <td>15.8</td>\n",
       "      <td>17.3</td>\n",
       "      <td>19.0</td>\n",
       "      <td>20.7</td>\n",
       "    </tr>\n",
       "    <tr>\n",
       "      <th>3</th>\n",
       "      <td>Perempuan</td>\n",
       "      <td>0</td>\n",
       "      <td>3</td>\n",
       "      <td>12.4</td>\n",
       "      <td>13.6</td>\n",
       "      <td>14.9</td>\n",
       "      <td>16.4</td>\n",
       "      <td>17.9</td>\n",
       "      <td>19.7</td>\n",
       "      <td>21.5</td>\n",
       "    </tr>\n",
       "    <tr>\n",
       "      <th>4</th>\n",
       "      <td>Perempuan</td>\n",
       "      <td>0</td>\n",
       "      <td>4</td>\n",
       "      <td>12.7</td>\n",
       "      <td>13.9</td>\n",
       "      <td>15.2</td>\n",
       "      <td>16.7</td>\n",
       "      <td>18.3</td>\n",
       "      <td>20.0</td>\n",
       "      <td>22.0</td>\n",
       "    </tr>\n",
       "  </tbody>\n",
       "</table>\n",
       "</div>"
      ],
      "text/plain": [
       "      Gender  Tahun  Bulan  -3 SD  -2 SD  -1 SD  Median  +1 SD  +2 SD  +3 SD\n",
       "0  Perempuan      0      0   10.1   11.1   12.2    13.3   14.6   16.1   17.7\n",
       "1  Perempuan      0      1   10.8   12.0   13.2    14.6   16.0   17.5   19.1\n",
       "2  Perempuan      0      2   11.8   13.0   14.3    15.8   17.3   19.0   20.7\n",
       "3  Perempuan      0      3   12.4   13.6   14.9    16.4   17.9   19.7   21.5\n",
       "4  Perempuan      0      4   12.7   13.9   15.2    16.7   18.3   20.0   22.0"
      ]
     },
     "execution_count": 1,
     "metadata": {},
     "output_type": "execute_result"
    }
   ],
   "source": [
    "# data handling\n",
    "import pandas as pd\n",
    "\n",
    "# read dataset\n",
    "dataset = pd.read_csv(\"data_klasifikasi_stunting.csv\")\n",
    "dataset.head()"
   ]
  },
  {
   "cell_type": "markdown",
   "metadata": {},
   "source": [
    "### 1. Make the categorization code"
   ]
  },
  {
   "cell_type": "code",
   "execution_count": 20,
   "metadata": {},
   "outputs": [
    {
     "name": "stdout",
     "output_type": "stream",
     "text": [
      "Median: 20.7\n",
      "Z score -2.44\n",
      "thiness\n"
     ]
    }
   ],
   "source": [
    "# code to get the clasification\n",
    "year_age: int = 16\n",
    "month_age: int = 0\n",
    "\n",
    "is_female: bool = True\n",
    "\n",
    "if is_female: gender = \"Perempuan\"\n",
    "else: gender = \"Laki-laki\"\n",
    "\n",
    "massa_tubuh: float = 14.6\n",
    "\n",
    "selected_category = dataset.loc[(dataset[\"Gender\"] == gender) & \n",
    "                                (dataset[\"Tahun\"] == year_age) &\n",
    "                                (dataset[\"Bulan\"] == month_age)]\n",
    "\n",
    "top = massa_tubuh - selected_category[\"Median\"].item()\n",
    "if top >= 0:\n",
    "    z_score = top / (selected_category[\"+1 SD\"].item() - selected_category[\"Median\"].item())\n",
    "else:\n",
    "    z_score = top / (selected_category[\"Median\"].item() - selected_category[\"-1 SD\"].item())\n",
    "\n",
    "print(\"Median:\", selected_category[\"Median\"].item())\n",
    "print(\"Z score\", z_score)\n",
    "\n",
    "# z score classification\n",
    "if z_score < -3: print(\"severly thiness\")\n",
    "elif z_score < -2: print(\"thiness\")\n",
    "elif z_score < 1: print(\"normal\")\n",
    "elif z_score < 2: print(\"overweight\")\n",
    "else: print(\"obese\")"
   ]
  },
  {
   "cell_type": "markdown",
   "metadata": {},
   "source": [
    "### Going modular"
   ]
  },
  {
   "cell_type": "code",
   "execution_count": 23,
   "metadata": {},
   "outputs": [],
   "source": [
    "class StatusClassifier:\n",
    "    def __init__(self, data_pth: str = \"data_klasifikasi_stunting.csv\") -> None:\n",
    "        self.dataset_imt = pd.read_csv(data_pth)\n",
    "        self.year_age: int = 0\n",
    "        self.month_age: int = 0\n",
    "        self.gender: str = \"\"\n",
    "        self.status: str = \"\"\n",
    "\n",
    "    def set_category(self, gender: str, month_age: int, year_age: int):\n",
    "        self.gender = gender\n",
    "        self.month_age = month_age\n",
    "        self.year_age = year_age\n",
    "\n",
    "        self.selected_classifier = self.dataset_imt.loc[(self.dataset_imt[\"Gender\"] == self.gender) & \n",
    "                                                        (self.dataset_imt[\"Tahun\"] == self.year_age) &\n",
    "                                                        (self.dataset_imt[\"Bulan\"] == self.month_age)]\n",
    "        \n",
    "    def get_classification(self, massa_tubuh: float):\n",
    "        top_equation = massa_tubuh - self.selected_classifier[\"Median\"].item()\n",
    "        if top_equation >= 0:\n",
    "            z_score = top_equation / (self.selected_classifier[\"+1 SD\"].item() - self.selected_classifier[\"Median\"].item())\n",
    "        else:\n",
    "            z_score = top_equation / (self.selected_classifier[\"Median\"].item() - self.selected_classifier[\"-1 SD\"].item())\n",
    "\n",
    "        if z_score < -3: self.status = \"Severly Thiness\"\n",
    "        elif z_score < -2: self.status = \"Thiness\"\n",
    "        elif z_score < 1: self.status = \"Normal\"\n",
    "        elif z_score < 2: self.status = \"Overweight\"\n",
    "        else: self.status = \"Obese\"\n",
    "\n",
    "        return self.status"
   ]
  },
  {
   "cell_type": "code",
   "execution_count": 25,
   "metadata": {},
   "outputs": [
    {
     "data": {
      "text/plain": [
       "'Thiness'"
      ]
     },
     "execution_count": 25,
     "metadata": {},
     "output_type": "execute_result"
    }
   ],
   "source": [
    "classifier = StatusClassifier()\n",
    "classifier.set_category(\"Laki-laki\", 0, 16)\n",
    "classifier.get_classification(massa_tubuh)"
   ]
  }
 ],
 "metadata": {
  "kernelspec": {
   "display_name": "Python 3",
   "language": "python",
   "name": "python3"
  },
  "language_info": {
   "codemirror_mode": {
    "name": "ipython",
    "version": 3
   },
   "file_extension": ".py",
   "mimetype": "text/x-python",
   "name": "python",
   "nbconvert_exporter": "python",
   "pygments_lexer": "ipython3",
   "version": "3.11.1"
  }
 },
 "nbformat": 4,
 "nbformat_minor": 2
}
