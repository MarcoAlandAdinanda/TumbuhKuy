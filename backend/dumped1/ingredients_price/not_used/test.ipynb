{
 "cells": [
  {
   "cell_type": "code",
   "execution_count": 2,
   "metadata": {},
   "outputs": [],
   "source": [
    "import requests, json\n",
    "import pandas as pd\n",
    "import numpy as np\n",
    "from typing import Dict, List\n",
    "from datetime import datetime, timedelta"
   ]
  },
  {
   "cell_type": "code",
   "execution_count": 101,
   "metadata": {},
   "outputs": [],
   "source": [
    "class PanelScraper:\n",
    "    def __init__(self):\n",
    "        self.api_prov_id_  : str  = \"https://panelharga.badanpangan.go.id/data/provinsi-by-levelharga/3/{}\"\n",
    "        self.api_kab_id_   : str  = \"https://panelharga.badanpangan.go.id/data/kabkota-by-levelharga/3/{}/{}\"\n",
    "        self.api_prov_prices_ : str = \"https://panelharga.badanpangan.go.id/data/provinsi-range-by-levelharga/{}/3/{}\"\n",
    "        self.api_kab_prices_     : str  = \"https://panelharga.badanpangan.go.id/data/kabkota-range-by-levelharga/{}/3/{}\"\n",
    "        self.api_datetime_ : str  = self.get_api_date()\n",
    "        self.prov_id_      : Dict = self.get_prov_id()\n",
    "        self.kab_id_       : Dict = self.get_kab_id()\n",
    "\n",
    "    def get_api_date(self) -> str:\n",
    "        current_time = datetime.now()\n",
    "        week_before = current_time - timedelta(days=7)\n",
    "\n",
    "        current_date = current_time.strftime(\"%d-%m-%Y\")\n",
    "        week_before_date = week_before.strftime(\"%d-%m-%Y\")\n",
    "\n",
    "        api_date = week_before_date + \"/\" + current_date\n",
    "        return api_date\n",
    "    \n",
    "    def get_prov_id(self) -> Dict:\n",
    "        api_prov_id = self.api_prov_id_.format(self.api_datetime_)\n",
    "        id_prov_json = requests.get(api_prov_id).json()\n",
    "\n",
    "        prov_id = {}\n",
    "        for prov in id_prov_json['data']:\n",
    "            prov_id[prov['nama']] = prov['id']\n",
    "\n",
    "        return prov_id\n",
    "    \n",
    "    def get_kab_id(self) -> Dict:\n",
    "        kab_id = {}\n",
    "\n",
    "        for prov_id in self.prov_id_.values():\n",
    "            api_kab_id = self.api_kab_id_.format(prov_id, self.api_datetime_)\n",
    "            id_kab_json = requests.get(api_kab_id).json()\n",
    "\n",
    "            kab_iter = {}\n",
    "            for kab in id_kab_json[\"data\"]:\n",
    "                kab_iter[kab[\"nama\"]] = kab[\"id\"]\n",
    "                kab_id = kab_id | kab_iter\n",
    "        \n",
    "        return kab_id\n",
    "\n",
    "class Province(PanelScraper):\n",
    "    def __init__(self, province_name: str) -> None:\n",
    "        super().__init__()\n",
    "        self.prov_name_   : str = province_name\n",
    "        self.prov_kab_id_ : Dict = self.get_prov_kab_id() \n",
    "        self.prov_prices  : Dict = self.get_prov_prices()\n",
    "        self.available_ingredients : List = list(self.prov_prices.keys())\n",
    "\n",
    "    def get_prov_kab_id(self) -> Dict:\n",
    "        prov_kab_json = requests.get(self.api_kab_id_.format(self.prov_id_[self.prov_name_], self.api_datetime_)).json()\n",
    "\n",
    "        prov_kab_id = {}\n",
    "        for kab in prov_kab_json['data']:\n",
    "            prov_kab_id[kab['nama']] = kab['id']\n",
    "\n",
    "        return prov_kab_id\n",
    "    \n",
    "    def get_prov_prices(self) -> Dict:\n",
    "        cost_prov_json = requests.get(self.api_prov_prices_.format(self.prov_id_[self.prov_name_], self.api_datetime_)).json()\n",
    "\n",
    "        prices = {}\n",
    "        for costs in cost_prov_json['data']:\n",
    "            prices[costs['name']] = [cost['geomean'] for cost in costs['by_date']]\n",
    "\n",
    "        return prices\n",
    "    \n",
    "    def get_prov_ingredient_price(self, ingredient_name: str, method: str = \"latest\"):\n",
    "        ingredient_prices = self.prov_prices[ingredient_name]\n",
    "\n",
    "        if method == \"latest\":\n",
    "            for ingredient_price in ingredient_prices[::-1]:\n",
    "                if ingredient_price != \"-\":\n",
    "                    return ingredient_price\n",
    "        else: \n",
    "            return ingredient_prices\n",
    "    \n",
    "class Kabupaten(PanelScraper):\n",
    "    def __init__(self, kabupaten_name: str) -> None:\n",
    "        super().__init__()\n",
    "        self.kab_name_             : str  = \"Kab. \" + kabupaten_name\n",
    "        self.kab_prices            : Dict = self.get_kab_prices()\n",
    "        self.available_ingredients : List = list(self.kab_prices.keys())\n",
    "    \n",
    "    def get_kab_prices(self) -> Dict:\n",
    "        cost_kab_json = requests.get(self.api_kab_prices_.format(self.kab_id_[self.kab_name_], self.api_datetime_)).json()\n",
    "        \n",
    "        prices = {}\n",
    "        for costs in cost_kab_json['data']:\n",
    "            prices[costs['name']] = [cost['geomean'] for cost in costs['by_date']]\n",
    "\n",
    "        return prices\n",
    "    \n",
    "    def get_kab_ingredient_price(self, ingredient_name: str, method: str = \"latest\"):\n",
    "        ingredient_prices = self.kab_prices[ingredient_name]\n",
    "\n",
    "        if method == \"latest\":\n",
    "            for ingredient_price in ingredient_prices[::-1]:\n",
    "                if ingredient_price != \"-\":\n",
    "                    return ingredient_price\n",
    "        else: \n",
    "            return ingredient_prices"
   ]
  },
  {
   "cell_type": "markdown",
   "metadata": {},
   "source": [
    "test api"
   ]
  },
  {
   "cell_type": "markdown",
   "metadata": {},
   "source": [
    "Testing Province"
   ]
  },
  {
   "cell_type": "code",
   "execution_count": 102,
   "metadata": {},
   "outputs": [],
   "source": [
    "jawa_tengah = Province(province_name=\"Jawa Tengah\")"
   ]
  },
  {
   "cell_type": "code",
   "execution_count": 103,
   "metadata": {},
   "outputs": [
    {
     "data": {
      "text/plain": [
       "{'Beras Premium': [14840, 14830, 14830, 14770, 14840, 14880, 14860, 14830],\n",
       " 'Beras Medium': [13060, 13090, 12990, 13050, 13030, 12940, 13080, 12980],\n",
       " 'Kedelai Biji Kering (Impor)': [9690,\n",
       "  9760,\n",
       "  9630,\n",
       "  9690,\n",
       "  9620,\n",
       "  9690,\n",
       "  9650,\n",
       "  9590],\n",
       " 'Bawang Merah': [25460, 26240, 26540, 26740, 26670, 26970, 27130, 27750],\n",
       " 'Bawang Putih Bonggol': [36160,\n",
       "  36700,\n",
       "  36700,\n",
       "  36840,\n",
       "  36790,\n",
       "  36600,\n",
       "  36900,\n",
       "  36880],\n",
       " 'Cabai Merah Keriting': [21430,\n",
       "  21340,\n",
       "  20990,\n",
       "  21550,\n",
       "  21330,\n",
       "  21310,\n",
       "  22070,\n",
       "  21730],\n",
       " 'Cabai Rawit Merah': [41050, 40810, 40450, 40660, 40650, 40250, 39770, 38440],\n",
       " 'Daging Sapi Murni': [130440,\n",
       "  130540,\n",
       "  130190,\n",
       "  130390,\n",
       "  129890,\n",
       "  129760,\n",
       "  130660,\n",
       "  130440],\n",
       " 'Daging Ayam Ras': [35740, 35820, 36110, 36350, 36070, 36420, 36470, 36460],\n",
       " 'Telur Ayam Ras': [25790, 25980, 25960, 25840, 25890, 26080, 25990, 26080],\n",
       " 'Gula Konsumsi': [17150, 17110, 17080, 17140, 17120, 17110, 17110, 17150],\n",
       " 'Minyak Goreng Kemasan Sederhana': [17210,\n",
       "  17190,\n",
       "  17230,\n",
       "  17270,\n",
       "  17210,\n",
       "  17180,\n",
       "  17340,\n",
       "  17230],\n",
       " 'Tepung Terigu (Curah)': [9130, 9130, 9100, 9140, 9150, 9050, 9210, 9210],\n",
       " 'Minyak Goreng Curah': [16360,\n",
       "  16410,\n",
       "  16410,\n",
       "  16410,\n",
       "  16400,\n",
       "  16450,\n",
       "  16390,\n",
       "  16390],\n",
       " 'Jagung Tk Peternak': [5160, 5050, 5030, 5090, 5080, 5050, 5110, 5080],\n",
       " 'Ikan Kembung': [31210, 31020, 31050, 31350, 30970, 31190, 31230, 31340],\n",
       " 'Ikan Tongkol': [30530, 30400, 30240, 30550, 30480, 30280, 30710, 30620],\n",
       " 'Ikan Bandeng': [32150, 32330, 32180, 32300, 32460, 32540, 32380, 32170],\n",
       " 'Garam Halus Beryodium': [11210,\n",
       "  11100,\n",
       "  10940,\n",
       "  11230,\n",
       "  11260,\n",
       "  11140,\n",
       "  11210,\n",
       "  11220],\n",
       " 'Tepung Terigu Kemasan (non-curah)': [12050,\n",
       "  11990,\n",
       "  12030,\n",
       "  12030,\n",
       "  12020,\n",
       "  11920,\n",
       "  12010,\n",
       "  12040],\n",
       " 'Beras SPHP': [12210, 12190, 12240, 12250, 12220, 12230, 12240, 12240]}"
      ]
     },
     "execution_count": 103,
     "metadata": {},
     "output_type": "execute_result"
    }
   ],
   "source": [
    "jawa_tengah.prov_prices"
   ]
  },
  {
   "cell_type": "code",
   "execution_count": 104,
   "metadata": {},
   "outputs": [
    {
     "data": {
      "text/plain": [
       "27750"
      ]
     },
     "execution_count": 104,
     "metadata": {},
     "output_type": "execute_result"
    }
   ],
   "source": [
    "jawa_tengah.get_prov_ingredient_price(\"Bawang Merah\")"
   ]
  },
  {
   "cell_type": "markdown",
   "metadata": {},
   "source": [
    "Testing kab"
   ]
  },
  {
   "cell_type": "code",
   "execution_count": 95,
   "metadata": {},
   "outputs": [],
   "source": [
    "banyumas = Kabupaten(kabupaten_name=\"Banyumas\")\n",
    "aceh_barat = Kabupaten(kabupaten_name=\"Aceh Barat\")"
   ]
  },
  {
   "cell_type": "code",
   "execution_count": 96,
   "metadata": {},
   "outputs": [
    {
     "data": {
      "text/plain": [
       "[35000, 35990, 35000, 33470, 32500, 33990, 34500, 35000]"
      ]
     },
     "execution_count": 96,
     "metadata": {},
     "output_type": "execute_result"
    }
   ],
   "source": [
    "aceh_barat.get_kab_ingredient_price(\"Bawang Merah\", \"gg\")"
   ]
  },
  {
   "cell_type": "code",
   "execution_count": 97,
   "metadata": {},
   "outputs": [
    {
     "data": {
      "text/plain": [
       "35000"
      ]
     },
     "execution_count": 97,
     "metadata": {},
     "output_type": "execute_result"
    }
   ],
   "source": [
    "aceh_barat.get_kab_ingredient_price(\"Bawang Merah\")"
   ]
  },
  {
   "cell_type": "code",
   "execution_count": null,
   "metadata": {},
   "outputs": [],
   "source": []
  }
 ],
 "metadata": {
  "kernelspec": {
   "display_name": "Python 3",
   "language": "python",
   "name": "python3"
  },
  "language_info": {
   "codemirror_mode": {
    "name": "ipython",
    "version": 3
   },
   "file_extension": ".py",
   "mimetype": "text/x-python",
   "name": "python",
   "nbconvert_exporter": "python",
   "pygments_lexer": "ipython3",
   "version": "3.10.11"
  }
 },
 "nbformat": 4,
 "nbformat_minor": 2
}
