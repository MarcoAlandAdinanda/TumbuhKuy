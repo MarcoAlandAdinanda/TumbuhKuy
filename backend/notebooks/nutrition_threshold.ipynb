{
 "cells": [
  {
   "cell_type": "markdown",
   "metadata": {},
   "source": [
    "## TumbuhKuy Nutrition Threshold Each Category"
   ]
  },
  {
   "cell_type": "markdown",
   "metadata": {},
   "source": [
    "### 0. Importing dependencies and dataset"
   ]
  },
  {
   "cell_type": "code",
   "execution_count": 33,
   "metadata": {},
   "outputs": [
    {
     "data": {
      "text/html": [
       "<div>\n",
       "<style scoped>\n",
       "    .dataframe tbody tr th:only-of-type {\n",
       "        vertical-align: middle;\n",
       "    }\n",
       "\n",
       "    .dataframe tbody tr th {\n",
       "        vertical-align: top;\n",
       "    }\n",
       "\n",
       "    .dataframe thead th {\n",
       "        text-align: right;\n",
       "    }\n",
       "</style>\n",
       "<table border=\"1\" class=\"dataframe\">\n",
       "  <thead>\n",
       "    <tr style=\"text-align: right;\">\n",
       "      <th></th>\n",
       "      <th>Gender</th>\n",
       "      <th>Kelompok Umur</th>\n",
       "      <th>Berat Badan (kg)</th>\n",
       "      <th>Tinggi Badan (cm)</th>\n",
       "      <th>Energi (kal)</th>\n",
       "      <th>Protein (gram)</th>\n",
       "      <th>Lemak (gram)</th>\n",
       "      <th>Karbohidrat (gram)</th>\n",
       "      <th>Serat (gram)</th>\n",
       "      <th>Air (ml)</th>\n",
       "    </tr>\n",
       "  </thead>\n",
       "  <tbody>\n",
       "    <tr>\n",
       "      <th>0</th>\n",
       "      <td>Laki-laki</td>\n",
       "      <td>0 - 5 Bulan</td>\n",
       "      <td>6</td>\n",
       "      <td>60</td>\n",
       "      <td>550</td>\n",
       "      <td>9</td>\n",
       "      <td>31</td>\n",
       "      <td>59</td>\n",
       "      <td>0</td>\n",
       "      <td>700</td>\n",
       "    </tr>\n",
       "    <tr>\n",
       "      <th>1</th>\n",
       "      <td>Laki-laki</td>\n",
       "      <td>6 - 11 Bulan</td>\n",
       "      <td>9</td>\n",
       "      <td>72</td>\n",
       "      <td>800</td>\n",
       "      <td>15</td>\n",
       "      <td>35</td>\n",
       "      <td>105</td>\n",
       "      <td>11</td>\n",
       "      <td>900</td>\n",
       "    </tr>\n",
       "    <tr>\n",
       "      <th>2</th>\n",
       "      <td>Laki-laki</td>\n",
       "      <td>1 - 3 Tahun</td>\n",
       "      <td>13</td>\n",
       "      <td>92</td>\n",
       "      <td>1350</td>\n",
       "      <td>20</td>\n",
       "      <td>45</td>\n",
       "      <td>215</td>\n",
       "      <td>19</td>\n",
       "      <td>1150</td>\n",
       "    </tr>\n",
       "    <tr>\n",
       "      <th>3</th>\n",
       "      <td>Laki-laki</td>\n",
       "      <td>4 - 6 Tahun</td>\n",
       "      <td>19</td>\n",
       "      <td>113</td>\n",
       "      <td>1400</td>\n",
       "      <td>25</td>\n",
       "      <td>50</td>\n",
       "      <td>220</td>\n",
       "      <td>20</td>\n",
       "      <td>1450</td>\n",
       "    </tr>\n",
       "    <tr>\n",
       "      <th>4</th>\n",
       "      <td>Laki-laki</td>\n",
       "      <td>7 - 9 Tahun</td>\n",
       "      <td>27</td>\n",
       "      <td>130</td>\n",
       "      <td>1650</td>\n",
       "      <td>40</td>\n",
       "      <td>55</td>\n",
       "      <td>250</td>\n",
       "      <td>23</td>\n",
       "      <td>1650</td>\n",
       "    </tr>\n",
       "  </tbody>\n",
       "</table>\n",
       "</div>"
      ],
      "text/plain": [
       "      Gender Kelompok Umur  Berat Badan (kg)  Tinggi Badan (cm)  Energi (kal)  \\\n",
       "0  Laki-laki   0 - 5 Bulan                 6                 60           550   \n",
       "1  Laki-laki  6 - 11 Bulan                 9                 72           800   \n",
       "2  Laki-laki   1 - 3 Tahun                13                 92          1350   \n",
       "3  Laki-laki   4 - 6 Tahun                19                113          1400   \n",
       "4  Laki-laki   7 - 9 Tahun                27                130          1650   \n",
       "\n",
       "   Protein (gram)  Lemak (gram)  Karbohidrat (gram)  Serat (gram)  Air (ml)  \n",
       "0               9            31                  59             0       700  \n",
       "1              15            35                 105            11       900  \n",
       "2              20            45                 215            19      1150  \n",
       "3              25            50                 220            20      1450  \n",
       "4              40            55                 250            23      1650  "
      ]
     },
     "execution_count": 33,
     "metadata": {},
     "output_type": "execute_result"
    }
   ],
   "source": [
    "# data handling\n",
    "import pandas as pd\n",
    "\n",
    "# read dataset\n",
    "dataset = pd.read_csv(\"requirements_gizi.csv\")\n",
    "dataset.head()"
   ]
  },
  {
   "cell_type": "markdown",
   "metadata": {},
   "source": [
    "### 1. Get threshold by category "
   ]
  },
  {
   "cell_type": "code",
   "execution_count": null,
   "metadata": {},
   "outputs": [
    {
     "data": {
      "text/plain": [
       "{'Gender': 'Perempuan',\n",
       " 'Kelompok Umur': '16 - 18 Tahun',\n",
       " 'Berat Badan (kg)': 52,\n",
       " 'Tinggi Badan (cm)': 159,\n",
       " 'Energi (kal)': 2100,\n",
       " 'Protein (gram)': 65,\n",
       " 'Lemak (gram)': 70,\n",
       " 'Karbohidrat (gram)': 300,\n",
       " 'Serat (gram)': 29,\n",
       " 'Air (ml)': 2150}"
      ]
     },
     "execution_count": 34,
     "metadata": {},
     "output_type": "execute_result"
    }
   ],
   "source": [
    "# code to get the threshold\n",
    "year_age: int = 16\n",
    "month_age: int = 0\n",
    "\n",
    "is_female: bool = True\n",
    "\n",
    "if is_female: gender = \"Perempuan\"\n",
    "else: gender = \"Laki-laki\"\n",
    "\n",
    "# year mode\n",
    "if year_age > 0: \n",
    "    if year_age < 4: # 1-3 Tahun\n",
    "        age_category = \"1 - 3 Tahun\"\n",
    "    elif year_age < 7: # 4-6 Tahun\n",
    "        age_category = \"4 - 6 Tahun\"\n",
    "    elif year_age < 10: # 7-9 Tahun\n",
    "        age_category = \"7 - 9 Tahun\"\n",
    "    elif year_age < 13: # 10-12 Tahun\n",
    "        age_category = \"10 - 12 Tahun\"\n",
    "    elif year_age < 16: # 13-15 Tahun\n",
    "        age_category = \"13 - 15 Tahun\"\n",
    "    elif year_age < 19: # 16-18 Tahun\n",
    "        age_category = \"16 - 18 Tahun\"\n",
    "    elif year_age < 30: # 19-29 Tahun\n",
    "        age_category = \"19 - 29 Tahun\"\n",
    "    elif year_age < 50: # 30-49 Tahun\n",
    "        age_category = \"30 - 49 Tahun\"\n",
    "    elif year_age < 65: # 50-64 Tahun\n",
    "        age_category = \"50 - 64 Tahun\"\n",
    "    elif year_age < 80: # 65-80 Tahun\n",
    "        age_category = \"65 - 80 Tahun\"\n",
    "    else: # 80+ Tahun\n",
    "        age_category = \"80+ Tahun\"\n",
    "# month mode\n",
    "else: \n",
    "    if month_age < 6: # 0-5 Bulan\n",
    "        age_category = \"0 - 5 Bulan\"\n",
    "    else: # 6-11 Bulan\n",
    "        age_category = \"6 - 11 Bulan\"\n",
    "\n",
    "dataset.loc[(dataset[\"Kelompok Umur\"] == age_category) & (dataset[\"Gender\"] == gender)].to_dict(orient=\"records\")[0]"
   ]
  },
  {
   "cell_type": "markdown",
   "metadata": {},
   "source": [
    "### 2. Going Modular"
   ]
  },
  {
   "cell_type": "code",
   "execution_count": null,
   "metadata": {},
   "outputs": [],
   "source": [
    "from typing import Dict\n",
    "\n",
    "class NutritionThreshold:\n",
    "    def __init__(self, data_pth: str = \"requirements_gizi.csv\"):\n",
    "        self.dataset = pd.read_csv(data_pth)\n",
    "        self.gender: str = \"\"\n",
    "        self.age_category: str = \"\"\n",
    "        self.threshold: Dict = {}\n",
    "\n",
    "    def get_threshold(self, is_female: bool, month_age: int = 0, year_age: int = 0) -> Dict:\n",
    "        if is_female: self.gender = \"Perempuan\"\n",
    "        else: self.gender = \"Laki-laki\" \"\"\n",
    "\n",
    "        # year mode\n",
    "        if year_age > 0: \n",
    "            if year_age < 4: # 1-3 Tahun\n",
    "                self.age_category = \"1 - 3 Tahun\"\n",
    "            elif year_age < 7: # 4-6 Tahun\n",
    "                self.age_category = \"4 - 6 Tahun\"\n",
    "            elif year_age < 10: # 7-9 Tahun\n",
    "                self.age_category = \"7 - 9 Tahun\"\n",
    "            elif year_age < 13: # 10-12 Tahun\n",
    "                self.age_category = \"10 - 12 Tahun\"\n",
    "            elif year_age < 16: # 13-15 Tahun\n",
    "                self.age_category = \"13 - 15 Tahun\"\n",
    "            elif year_age < 19: # 16-18 Tahun\n",
    "                self.age_category = \"16 - 18 Tahun\"\n",
    "            elif year_age < 30: # 19-29 Tahun\n",
    "                self.age_category = \"19 - 29 Tahun\"\n",
    "            elif year_age < 50: # 30-49 Tahun\n",
    "                self.age_category = \"30 - 49 Tahun\"\n",
    "            elif year_age < 65: # 50-64 Tahun\n",
    "                self.age_category = \"50 - 64 Tahun\"\n",
    "            elif year_age < 80: # 65-80 Tahun\n",
    "                self.age_category = \"65 - 80 Tahun\"\n",
    "            else: # 80+ Tahun\n",
    "                self.age_category = \"80+ Tahun\"\n",
    "        # month mode\n",
    "        else: \n",
    "            if month_age < 6: # 0-5 Bulan\n",
    "                self.age_category = \"0 - 5 Bulan\"\n",
    "            else: # 6-11 Bulan\n",
    "                self.age_category = \"6 - 11 Bulan\"\n",
    "\n",
    "        self.threshold = self.dataset.loc[(dataset[\"Kelompok Umur\"] == self.age_category) & (dataset[\"Gender\"] == self.gender)].to_dict(orient=\"records\")[0]\n",
    "        return self.threshold"
   ]
  },
  {
   "cell_type": "code",
   "execution_count": 37,
   "metadata": {},
   "outputs": [
    {
     "data": {
      "text/plain": [
       "{'Gender': 'Perempuan',\n",
       " 'Kelompok Umur': '10 - 12 Tahun',\n",
       " 'Berat Badan (kg)': 38,\n",
       " 'Tinggi Badan (cm)': 147,\n",
       " 'Energi (kal)': 1900,\n",
       " 'Protein (gram)': 55,\n",
       " 'Lemak (gram)': 65,\n",
       " 'Karbohidrat (gram)': 280,\n",
       " 'Serat (gram)': 27,\n",
       " 'Air (ml)': 1850}"
      ]
     },
     "execution_count": 37,
     "metadata": {},
     "output_type": "execute_result"
    }
   ],
   "source": [
    "nutriton_threshold = NutritionThreshold()\n",
    "nutriton_threshold.get_threshold(is_female=True, month_age=0, year_age=11)"
   ]
  }
 ],
 "metadata": {
  "kernelspec": {
   "display_name": "pytorch",
   "language": "python",
   "name": "python3"
  },
  "language_info": {
   "codemirror_mode": {
    "name": "ipython",
    "version": 3
   },
   "file_extension": ".py",
   "mimetype": "text/x-python",
   "name": "python",
   "nbconvert_exporter": "python",
   "pygments_lexer": "ipython3",
   "version": "3.10.13"
  }
 },
 "nbformat": 4,
 "nbformat_minor": 2
}
