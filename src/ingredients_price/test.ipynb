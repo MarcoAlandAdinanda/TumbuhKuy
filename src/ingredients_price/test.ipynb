{
 "cells": [
  {
   "cell_type": "code",
   "execution_count": 7,
   "metadata": {},
   "outputs": [],
   "source": [
    "import requests, json\n",
    "import pandas as pd\n",
    "import numpy as np\n",
    "from typing import Dict, List\n",
    "from datetime import datetime, timedelta"
   ]
  },
  {
   "cell_type": "code",
   "execution_count": 20,
   "metadata": {},
   "outputs": [],
   "source": [
    "class DataScraper:\n",
    "    def __init__(self):\n",
    "        # self.prov_name_   : str = \"\"\n",
    "        self.api_prov_id_  : str  = \"https://panelharga.badanpangan.go.id/data/provinsi-by-levelharga/3/{}\"\n",
    "        self.api_kab_id_   : str  = \"https://panelharga.badanpangan.go.id/data/kabkota-by-levelharga/3/{}/{}\"\n",
    "        self.api_cost_     : str  = \"https://panelharga.badanpangan.go.id/data/kabkota-range-by-levelharga/{}/3/{}\"\n",
    "        self.api_datetime_ : str  = self.get_api_date()\n",
    "        self.prov_id_      : Dict = self.get_prov_id()\n",
    "        self.kab_id_       : Dict = self.get_kab_id()\n",
    "\n",
    "    def get_api_date(self) -> str:\n",
    "        current_time = datetime.now()\n",
    "        week_before = current_time - timedelta(days=7)\n",
    "\n",
    "        current_date = current_time.strftime(\"%d-%m-%Y\")\n",
    "        week_before_date = week_before.strftime(\"%d-%m-%Y\")\n",
    "\n",
    "        api_date = week_before_date + \"/\" + current_date\n",
    "        return api_date\n",
    "    \n",
    "    def get_prov_id(self) -> Dict:\n",
    "        api_prov_id = self.api_prov_id_.format(self.api_datetime_)\n",
    "        id_prov_json = requests.get(api_prov_id).json()\n",
    "\n",
    "        prov_id = {}\n",
    "        for prov in id_prov_json['data']:\n",
    "            prov_id[prov['nama']] = prov['id']\n",
    "\n",
    "        return prov_id\n",
    "    \n",
    "    def get_kab_id(self) -> Dict:\n",
    "        kab_id = {}\n",
    "\n",
    "        for prov_id in self.prov_id_.values():\n",
    "            api_kab_id = self.api_kab_id_.format(prov_id, self.api_datetime_)\n",
    "            id_kab_json = requests.get(api_kab_id).json()\n",
    "\n",
    "            kab_iter = {}\n",
    "            for kab in id_kab_json[\"data\"]:\n",
    "                kab_iter[kab[\"nama\"]] = kab[\"id\"]\n",
    "                kab_id = kab_id | kab_iter\n",
    "        \n",
    "        return kab_id\n",
    "\n",
    "class Province(DataScraper):\n",
    "    def __init__(self, province_name: str) -> None:\n",
    "        super().__init__()\n",
    "        self.prov_name_ : str = province_name\n",
    "        self.prov_kab_id_ : Dict = self.get_prov_kab_id() \n",
    "\n",
    "    def get_prov_kab_id(self) -> Dict:\n",
    "        api_prov_kab = self.api_kab_id_.format(self.prov_id_[self.prov_name_], self.api_datetime_)\n",
    "        prov_kab_json = requests.get(api_prov_kab).json()\n",
    "\n",
    "        prov_kab_id = {}\n",
    "        for kab in prov_kab_json['data']:\n",
    "            prov_kab_id[kab['nama']] = kab['id']\n",
    "\n",
    "        return prov_kab_id\n",
    "    \n",
    "\n",
    "\n",
    "class Kabupaten(DataScraper):\n",
    "    def __init__(self, kabupaten_name: str) -> None:\n",
    "        super().__init__()\n",
    "        self.kab_name_     : str  = \"Kab. \" + kabupaten_name\n",
    "        self.api_kab_cost_ : str  = \"https://panelharga.badanpangan.go.id/data/kabkota-range-by-levelharga/{}/3/{}\".format(self.kab_id_[self.kab_name_], self.api_datetime_)\n",
    "        self.prices        : Dict = self.get_prices()\n",
    "        self.available_ingredients : List = list(self.prices.keys())\n",
    "    \n",
    "    def get_prices(self) -> Dict:\n",
    "        cost_json = requests.get(self.api_kab_cost_).json()\n",
    "\n",
    "        prices = {}\n",
    "        for costs in cost_json['data']:\n",
    "            prices[costs['name']] = [cost['geomean'] for cost in costs['by_date']]\n",
    "\n",
    "        return prices\n",
    "    \n",
    "    def get_ingredient_price(self, ingredient_name: str, method: str = \"latest\"):\n",
    "        ingredient_prices = self.prices[ingredient_name]\n",
    "\n",
    "        if method == \"latest\":\n",
    "            if ingredient_prices[-1] == \"-\":\n",
    "                return ingredient_prices[-2]"
   ]
  },
  {
   "cell_type": "code",
   "execution_count": 21,
   "metadata": {},
   "outputs": [],
   "source": [
    "banyumas = Kabupaten(\"Banyumas\")"
   ]
  },
  {
   "cell_type": "code",
   "execution_count": 23,
   "metadata": {},
   "outputs": [
    {
     "data": {
      "text/plain": [
       "[25920, 26460, 26460, 26460, 26460, 26460, 26460, '-']"
      ]
     },
     "execution_count": 23,
     "metadata": {},
     "output_type": "execute_result"
    }
   ],
   "source": [
    "banyumas.prices[\"Bawang Merah\"]"
   ]
  },
  {
   "cell_type": "code",
   "execution_count": 24,
   "metadata": {},
   "outputs": [
    {
     "data": {
      "text/plain": [
       "26460"
      ]
     },
     "execution_count": 24,
     "metadata": {},
     "output_type": "execute_result"
    }
   ],
   "source": [
    "banyumas.get_ingredient_price(\"Bawang Merah\")"
   ]
  },
  {
   "cell_type": "code",
   "execution_count": null,
   "metadata": {},
   "outputs": [],
   "source": []
  }
 ],
 "metadata": {
  "kernelspec": {
   "display_name": "pytorch",
   "language": "python",
   "name": "python3"
  },
  "language_info": {
   "codemirror_mode": {
    "name": "ipython",
    "version": 3
   },
   "file_extension": ".py",
   "mimetype": "text/x-python",
   "name": "python",
   "nbconvert_exporter": "python",
   "pygments_lexer": "ipython3",
   "version": "3.10.13"
  }
 },
 "nbformat": 4,
 "nbformat_minor": 2
}
