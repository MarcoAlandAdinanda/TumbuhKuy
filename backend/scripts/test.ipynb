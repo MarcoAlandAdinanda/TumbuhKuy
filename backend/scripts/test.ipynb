{
 "cells": [
  {
   "cell_type": "code",
   "execution_count": 1,
   "metadata": {},
   "outputs": [],
   "source": [
    "from getPrice import Province, Kabupaten\n",
    "\n",
    "banyumas = Kabupaten(kabupaten_name=\"Banyumas\")\n",
    "bajarmasin = Kabupaten(kabupaten_name=\"Kebumen\")"
   ]
  },
  {
   "cell_type": "code",
   "execution_count": 2,
   "metadata": {},
   "outputs": [],
   "source": [
    "jawa_tengah = Province(province_name=\"Jawa Tengah\")\n",
    "bali = Province(province_name=\"Bali\")"
   ]
  },
  {
   "cell_type": "code",
   "execution_count": 3,
   "metadata": {},
   "outputs": [
    {
     "data": {
      "text/plain": [
       "[15490, 15450, 15490, 15400, 15530, 15580, 15530, 15610]"
      ]
     },
     "execution_count": 3,
     "metadata": {},
     "output_type": "execute_result"
    }
   ],
   "source": [
    "bali.get_prov_ingredient_price(\"Beras Premium\", \"all\")"
   ]
  },
  {
   "cell_type": "code",
   "execution_count": 3,
   "metadata": {},
   "outputs": [
    {
     "name": "stdout",
     "output_type": "stream",
     "text": [
      "Production of Product A = 12.0\n",
      "Production of Product B = 11.0\n"
     ]
    }
   ],
   "source": [
    "# Let's start importing the library PuLP to solve linear programs\n",
    "import pulp\n",
    "\n",
    "# Create an instance of the problem class using LpProblem\n",
    "model = pulp.LpProblem(\"Production_Mix_example\", pulp.LpMaximize) #this will create an instance of an LP Maximise problem\n",
    "\n",
    "# Create the variables of the problem\n",
    "x = pulp.LpVariable('x', lowBound=0, cat='Continuous')\n",
    "y = pulp.LpVariable('y', lowBound=0, cat='Continuous')\n",
    "\n",
    "# Add the objective function to the model\n",
    "model += 300 * x + 250 * y, \"Profit\"\n",
    "\n",
    "# And the constraints\n",
    "model += 2 * x + y <= 40, \"Man Power\"\n",
    "model += x + 3 * y <= 45, \"Machine Operating Time\"\n",
    "model += x <=12, \"Marketing\"\n",
    "\n",
    "# solve the problem\n",
    "model.solve()\n",
    "pulp.LpStatus[model.status]\n",
    "\n",
    "# Print our decision variable values\n",
    "print(\"Production of Product A = {}\".format(x.varValue))\n",
    "print(\"Production of Product B = {}\".format(y.varValue))"
   ]
  },
  {
   "cell_type": "code",
   "execution_count": 2,
   "metadata": {},
   "outputs": [
    {
     "name": "stdout",
     "output_type": "stream",
     "text": [
      "Collecting pulp\n",
      "  Downloading PuLP-2.9.0-py3-none-any.whl.metadata (5.4 kB)\n",
      "Downloading PuLP-2.9.0-py3-none-any.whl (17.7 MB)\n",
      "   ---------------------------------------- 0.0/17.7 MB ? eta -:--:--\n",
      "   ---------------------------------------- 0.0/17.7 MB 1.3 MB/s eta 0:00:14\n",
      "    --------------------------------------- 0.2/17.7 MB 3.8 MB/s eta 0:00:05\n",
      "   - -------------------------------------- 0.8/17.7 MB 7.0 MB/s eta 0:00:03\n",
      "   --- ------------------------------------ 1.4/17.7 MB 7.9 MB/s eta 0:00:03\n",
      "   ---- ----------------------------------- 1.8/17.7 MB 8.1 MB/s eta 0:00:02\n",
      "   ----- ---------------------------------- 2.4/17.7 MB 9.5 MB/s eta 0:00:02\n",
      "   ------ --------------------------------- 2.8/17.7 MB 9.4 MB/s eta 0:00:02\n",
      "   ------- -------------------------------- 3.3/17.7 MB 9.7 MB/s eta 0:00:02\n",
      "   -------- ------------------------------- 3.8/17.7 MB 9.7 MB/s eta 0:00:02\n",
      "   --------- ------------------------------ 4.3/17.7 MB 10.2 MB/s eta 0:00:02\n",
      "   ---------- ----------------------------- 4.8/17.7 MB 10.1 MB/s eta 0:00:02\n",
      "   ----------- ---------------------------- 5.3/17.7 MB 10.2 MB/s eta 0:00:02\n",
      "   ------------ --------------------------- 5.7/17.7 MB 10.4 MB/s eta 0:00:02\n",
      "   ------------- -------------------------- 6.1/17.7 MB 10.2 MB/s eta 0:00:02\n",
      "   -------------- ------------------------- 6.6/17.7 MB 10.5 MB/s eta 0:00:02\n",
      "   --------------- ------------------------ 7.0/17.7 MB 10.5 MB/s eta 0:00:02\n",
      "   ---------------- ----------------------- 7.5/17.7 MB 10.4 MB/s eta 0:00:01\n",
      "   ------------------ --------------------- 8.0/17.7 MB 10.6 MB/s eta 0:00:01\n",
      "   ------------------- -------------------- 8.4/17.7 MB 10.6 MB/s eta 0:00:01\n",
      "   -------------------- ------------------- 8.9/17.7 MB 10.8 MB/s eta 0:00:01\n",
      "   --------------------- ------------------ 9.5/17.7 MB 10.8 MB/s eta 0:00:01\n",
      "   ---------------------- ----------------- 10.1/17.7 MB 10.8 MB/s eta 0:00:01\n",
      "   ------------------------ --------------- 10.7/17.7 MB 11.5 MB/s eta 0:00:01\n",
      "   ------------------------- -------------- 11.3/17.7 MB 11.7 MB/s eta 0:00:01\n",
      "   -------------------------- ------------- 11.9/17.7 MB 11.7 MB/s eta 0:00:01\n",
      "   ---------------------------- ----------- 12.4/17.7 MB 11.7 MB/s eta 0:00:01\n",
      "   ----------------------------- ---------- 13.0/17.7 MB 11.5 MB/s eta 0:00:01\n",
      "   ------------------------------ --------- 13.6/17.7 MB 11.7 MB/s eta 0:00:01\n",
      "   -------------------------------- ------- 14.2/17.7 MB 11.7 MB/s eta 0:00:01\n",
      "   --------------------------------- ------ 14.8/17.7 MB 11.7 MB/s eta 0:00:01\n",
      "   ---------------------------------- ----- 15.4/17.7 MB 11.7 MB/s eta 0:00:01\n",
      "   ----------------------------------- ---- 15.8/17.7 MB 11.5 MB/s eta 0:00:01\n",
      "   ------------------------------------- -- 16.4/17.7 MB 11.7 MB/s eta 0:00:01\n",
      "   -------------------------------------- - 17.0/17.7 MB 11.9 MB/s eta 0:00:01\n",
      "   ---------------------------------------  17.6/17.7 MB 11.9 MB/s eta 0:00:01\n",
      "   ---------------------------------------- 17.7/17.7 MB 11.7 MB/s eta 0:00:00\n",
      "Installing collected packages: pulp\n",
      "Successfully installed pulp-2.9.0\n"
     ]
    }
   ],
   "source": [
    "!pip install pulp"
   ]
  }
 ],
 "metadata": {
  "kernelspec": {
   "display_name": "pytorch",
   "language": "python",
   "name": "python3"
  },
  "language_info": {
   "codemirror_mode": {
    "name": "ipython",
    "version": 3
   },
   "file_extension": ".py",
   "mimetype": "text/x-python",
   "name": "python",
   "nbconvert_exporter": "python",
   "pygments_lexer": "ipython3",
   "version": "3.10.13"
  }
 },
 "nbformat": 4,
 "nbformat_minor": 2
}
