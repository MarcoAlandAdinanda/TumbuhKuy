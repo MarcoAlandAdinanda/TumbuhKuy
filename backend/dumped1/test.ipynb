{
 "cells": [
  {
   "cell_type": "code",
   "execution_count": 1,
   "metadata": {},
   "outputs": [],
   "source": [
    "from getPrice import Province, Kabupaten\n",
    "\n",
    "banyumas = Kabupaten(kabupaten_name=\"Banyumas\")\n",
    "bajarmasin = Kabupaten(kabupaten_name=\"Kebumen\")"
   ]
  },
  {
   "cell_type": "code",
   "execution_count": 2,
   "metadata": {},
   "outputs": [],
   "source": [
    "jawa_tengah = Province(province_name=\"Jawa Tengah\")\n",
    "bali = Province(province_name=\"Bali\")"
   ]
  },
  {
   "cell_type": "code",
   "execution_count": 3,
   "metadata": {},
   "outputs": [
    {
     "data": {
      "text/plain": [
       "[15490, 15450, 15490, 15400, 15530, 15580, 15530, 15610]"
      ]
     },
     "execution_count": 3,
     "metadata": {},
     "output_type": "execute_result"
    }
   ],
   "source": [
    "bali.get_prov_ingredient_price(\"Beras Premium\", \"all\")"
   ]
  },
  {
   "cell_type": "code",
   "execution_count": 3,
   "metadata": {},
   "outputs": [
    {
     "name": "stdout",
     "output_type": "stream",
     "text": [
      "Production of Product A = 12.0\n",
      "Production of Product B = 11.0\n"
     ]
    }
   ],
   "source": [
    "# Let's start importing the library PuLP to solve linear programs\n",
    "import pulp\n",
    "\n",
    "# Create an instance of the problem class using LpProblem\n",
    "model = pulp.LpProblem(\"Production_Mix_example\", pulp.LpMaximize) #this will create an instance of an LP Maximise problem\n",
    "\n",
    "# Create the variables of the problem\n",
    "x = pulp.LpVariable('x', lowBound=0, cat='Continuous')\n",
    "y = pulp.LpVariable('y', lowBound=0, cat='Continuous')\n",
    "\n",
    "# Add the objective function to the model\n",
    "model += 300 * x + 250 * y, \"Profit\"\n",
    "\n",
    "# And the constraints\n",
    "model += 2 * x + y <= 40, \"Man Power\"\n",
    "model += x + 3 * y <= 45, \"Machine Operating Time\"\n",
    "model += x <=12, \"Marketing\"\n",
    "\n",
    "# solve the problem\n",
    "model.solve()\n",
    "pulp.LpStatus[model.status]\n",
    "\n",
    "# Print our decision variable values\n",
    "print(\"Production of Product A = {}\".format(x.varValue))\n",
    "print(\"Production of Product B = {}\".format(y.varValue))"
   ]
  },
  {
   "cell_type": "code",
   "execution_count": 2,
   "metadata": {},
   "outputs": [
    {
     "name": "stdout",
     "output_type": "stream",
     "text": [
      "Collecting pulp\n",
      "  Downloading PuLP-2.9.0-py3-none-any.whl.metadata (5.4 kB)\n",
      "Downloading PuLP-2.9.0-py3-none-any.whl (17.7 MB)\n",
      "   ---------------------------------------- 0.0/17.7 MB ? eta -:--:--\n",
      "   ---------------------------------------- 0.0/17.7 MB 1.3 MB/s eta 0:00:14\n",
      "    --------------------------------------- 0.2/17.7 MB 3.8 MB/s eta 0:00:05\n",
      "   - -------------------------------------- 0.8/17.7 MB 7.0 MB/s eta 0:00:03\n",
      "   --- ------------------------------------ 1.4/17.7 MB 7.9 MB/s eta 0:00:03\n",
      "   ---- ----------------------------------- 1.8/17.7 MB 8.1 MB/s eta 0:00:02\n",
      "   ----- ---------------------------------- 2.4/17.7 MB 9.5 MB/s eta 0:00:02\n",
      "   ------ --------------------------------- 2.8/17.7 MB 9.4 MB/s eta 0:00:02\n",
      "   ------- -------------------------------- 3.3/17.7 MB 9.7 MB/s eta 0:00:02\n",
      "   -------- ------------------------------- 3.8/17.7 MB 9.7 MB/s eta 0:00:02\n",
      "   --------- ------------------------------ 4.3/17.7 MB 10.2 MB/s eta 0:00:02\n",
      "   ---------- ----------------------------- 4.8/17.7 MB 10.1 MB/s eta 0:00:02\n",
      "   ----------- ---------------------------- 5.3/17.7 MB 10.2 MB/s eta 0:00:02\n",
      "   ------------ --------------------------- 5.7/17.7 MB 10.4 MB/s eta 0:00:02\n",
      "   ------------- -------------------------- 6.1/17.7 MB 10.2 MB/s eta 0:00:02\n",
      "   -------------- ------------------------- 6.6/17.7 MB 10.5 MB/s eta 0:00:02\n",
      "   --------------- ------------------------ 7.0/17.7 MB 10.5 MB/s eta 0:00:02\n",
      "   ---------------- ----------------------- 7.5/17.7 MB 10.4 MB/s eta 0:00:01\n",
      "   ------------------ --------------------- 8.0/17.7 MB 10.6 MB/s eta 0:00:01\n",
      "   ------------------- -------------------- 8.4/17.7 MB 10.6 MB/s eta 0:00:01\n",
      "   -------------------- ------------------- 8.9/17.7 MB 10.8 MB/s eta 0:00:01\n",
      "   --------------------- ------------------ 9.5/17.7 MB 10.8 MB/s eta 0:00:01\n",
      "   ---------------------- ----------------- 10.1/17.7 MB 10.8 MB/s eta 0:00:01\n",
      "   ------------------------ --------------- 10.7/17.7 MB 11.5 MB/s eta 0:00:01\n",
      "   ------------------------- -------------- 11.3/17.7 MB 11.7 MB/s eta 0:00:01\n",
      "   -------------------------- ------------- 11.9/17.7 MB 11.7 MB/s eta 0:00:01\n",
      "   ---------------------------- ----------- 12.4/17.7 MB 11.7 MB/s eta 0:00:01\n",
      "   ----------------------------- ---------- 13.0/17.7 MB 11.5 MB/s eta 0:00:01\n",
      "   ------------------------------ --------- 13.6/17.7 MB 11.7 MB/s eta 0:00:01\n",
      "   -------------------------------- ------- 14.2/17.7 MB 11.7 MB/s eta 0:00:01\n",
      "   --------------------------------- ------ 14.8/17.7 MB 11.7 MB/s eta 0:00:01\n",
      "   ---------------------------------- ----- 15.4/17.7 MB 11.7 MB/s eta 0:00:01\n",
      "   ----------------------------------- ---- 15.8/17.7 MB 11.5 MB/s eta 0:00:01\n",
      "   ------------------------------------- -- 16.4/17.7 MB 11.7 MB/s eta 0:00:01\n",
      "   -------------------------------------- - 17.0/17.7 MB 11.9 MB/s eta 0:00:01\n",
      "   ---------------------------------------  17.6/17.7 MB 11.9 MB/s eta 0:00:01\n",
      "   ---------------------------------------- 17.7/17.7 MB 11.7 MB/s eta 0:00:00\n",
      "Installing collected packages: pulp\n",
      "Successfully installed pulp-2.9.0\n"
     ]
    }
   ],
   "source": [
    "!pip install pulp"
   ]
  },
  {
   "cell_type": "code",
   "execution_count": 1,
   "metadata": {},
   "outputs": [
    {
     "data": {
      "text/html": [
       "<div>\n",
       "<style scoped>\n",
       "    .dataframe tbody tr th:only-of-type {\n",
       "        vertical-align: middle;\n",
       "    }\n",
       "\n",
       "    .dataframe tbody tr th {\n",
       "        vertical-align: top;\n",
       "    }\n",
       "\n",
       "    .dataframe thead th {\n",
       "        text-align: right;\n",
       "    }\n",
       "</style>\n",
       "<table border=\"1\" class=\"dataframe\">\n",
       "  <thead>\n",
       "    <tr style=\"text-align: right;\">\n",
       "      <th></th>\n",
       "      <th>Unnamed: 0</th>\n",
       "      <th>Kategori</th>\n",
       "      <th>Nama Bahan</th>\n",
       "      <th>Air (gram)</th>\n",
       "      <th>Energi (kal)</th>\n",
       "      <th>Protein (gram)</th>\n",
       "      <th>Lemak (gram)</th>\n",
       "      <th>Karbohidrat (gram)</th>\n",
       "      <th>Serat (gram)</th>\n",
       "      <th>Harga (Rp.)</th>\n",
       "    </tr>\n",
       "  </thead>\n",
       "  <tbody>\n",
       "    <tr>\n",
       "      <th>0</th>\n",
       "      <td>0</td>\n",
       "      <td>Daging</td>\n",
       "      <td>Anak sapi, daging, gemuk, segar</td>\n",
       "      <td>62.0</td>\n",
       "      <td>184</td>\n",
       "      <td>18.8</td>\n",
       "      <td>14.0</td>\n",
       "      <td>0.0</td>\n",
       "      <td>0.0</td>\n",
       "      <td>35000</td>\n",
       "    </tr>\n",
       "    <tr>\n",
       "      <th>1</th>\n",
       "      <td>1</td>\n",
       "      <td>Daging</td>\n",
       "      <td>Anak sapi, daging, kurus, segar</td>\n",
       "      <td>69.0</td>\n",
       "      <td>174</td>\n",
       "      <td>19.6</td>\n",
       "      <td>10.0</td>\n",
       "      <td>0.0</td>\n",
       "      <td>0.0</td>\n",
       "      <td>19000</td>\n",
       "    </tr>\n",
       "    <tr>\n",
       "      <th>2</th>\n",
       "      <td>2</td>\n",
       "      <td>Daging</td>\n",
       "      <td>Anak sapi, daging, sedang, segar</td>\n",
       "      <td>68.0</td>\n",
       "      <td>190</td>\n",
       "      <td>19.1</td>\n",
       "      <td>12.0</td>\n",
       "      <td>0.0</td>\n",
       "      <td>0.0</td>\n",
       "      <td>30000</td>\n",
       "    </tr>\n",
       "    <tr>\n",
       "      <th>3</th>\n",
       "      <td>3</td>\n",
       "      <td>Daging</td>\n",
       "      <td>Angsa, daging, segar</td>\n",
       "      <td>51.1</td>\n",
       "      <td>349</td>\n",
       "      <td>16.4</td>\n",
       "      <td>31.5</td>\n",
       "      <td>0.0</td>\n",
       "      <td>0.0</td>\n",
       "      <td>18000</td>\n",
       "    </tr>\n",
       "    <tr>\n",
       "      <th>4</th>\n",
       "      <td>4</td>\n",
       "      <td>Daging</td>\n",
       "      <td>Ayam, daging, segar</td>\n",
       "      <td>55.9</td>\n",
       "      <td>298</td>\n",
       "      <td>18.2</td>\n",
       "      <td>25.0</td>\n",
       "      <td>0.0</td>\n",
       "      <td>0.0</td>\n",
       "      <td>16000</td>\n",
       "    </tr>\n",
       "  </tbody>\n",
       "</table>\n",
       "</div>"
      ],
      "text/plain": [
       "   Unnamed: 0 Kategori                        Nama Bahan  Air (gram)  \\\n",
       "0           0   Daging   Anak sapi, daging, gemuk, segar        62.0   \n",
       "1           1   Daging   Anak sapi, daging, kurus, segar        69.0   \n",
       "2           2   Daging  Anak sapi, daging, sedang, segar        68.0   \n",
       "3           3   Daging              Angsa, daging, segar        51.1   \n",
       "4           4   Daging               Ayam, daging, segar        55.9   \n",
       "\n",
       "   Energi (kal)  Protein (gram)  Lemak (gram)  Karbohidrat (gram)  \\\n",
       "0           184            18.8          14.0                 0.0   \n",
       "1           174            19.6          10.0                 0.0   \n",
       "2           190            19.1          12.0                 0.0   \n",
       "3           349            16.4          31.5                 0.0   \n",
       "4           298            18.2          25.0                 0.0   \n",
       "\n",
       "   Serat (gram)  Harga (Rp.)  \n",
       "0           0.0        35000  \n",
       "1           0.0        19000  \n",
       "2           0.0        30000  \n",
       "3           0.0        18000  \n",
       "4           0.0        16000  "
      ]
     },
     "execution_count": 1,
     "metadata": {},
     "output_type": "execute_result"
    }
   ],
   "source": [
    "import pandas as pd\n",
    "\n",
    "df = pd.read_csv(\"preprocessed/preprocess.csv\")\n",
    "df.head()"
   ]
  }
 ],
 "metadata": {
  "kernelspec": {
   "display_name": "pytorch",
   "language": "python",
   "name": "python3"
  },
  "language_info": {
   "codemirror_mode": {
    "name": "ipython",
    "version": 3
   },
   "file_extension": ".py",
   "mimetype": "text/x-python",
   "name": "python",
   "nbconvert_exporter": "python",
   "pygments_lexer": "ipython3",
   "version": "3.10.13"
  }
 },
 "nbformat": 4,
 "nbformat_minor": 2
}
