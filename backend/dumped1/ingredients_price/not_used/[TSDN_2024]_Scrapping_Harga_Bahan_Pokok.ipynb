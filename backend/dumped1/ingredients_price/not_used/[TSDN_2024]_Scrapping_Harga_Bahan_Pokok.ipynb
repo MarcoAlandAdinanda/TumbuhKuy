{
  "cells": [
    {
      "cell_type": "markdown",
      "metadata": {
        "id": "XYFLi6Gb08eB"
      },
      "source": [
        "## Data Mining from Badan Pangan Nasional\n",
        "Mine the price of each food ingredients for each Kabupaten in Indonesia"
      ]
    },
    {
      "cell_type": "markdown",
      "metadata": {
        "id": "jDeVxSAa1c6v"
      },
      "source": [
        "### 0. Importing dependencies"
      ]
    },
    {
      "cell_type": "code",
      "execution_count": 41,
      "metadata": {
        "id": "w-MGMy5GxxSF"
      },
      "outputs": [],
      "source": [
        "import requests, json\n",
        "import pandas as pd\n",
        "import numpy as np\n",
        "from typing import Dict\n",
        "from datetime import datetime, timedelta"
      ]
    },
    {
      "cell_type": "markdown",
      "metadata": {},
      "source": [
        "Datetime function to fetch realtime data"
      ]
    },
    {
      "cell_type": "code",
      "execution_count": 42,
      "metadata": {
        "id": "Ou4eqezU2Lye"
      },
      "outputs": [
        {
          "name": "stdout",
          "output_type": "stream",
          "text": [
            "Datetime used: 21-10-2024/28-10-2024\n"
          ]
        }
      ],
      "source": [
        "def get_api_date() -> str:\n",
        "  current_time = datetime.now()\n",
        "  week_before = current_time - timedelta(days=7)\n",
        "\n",
        "  current_date = current_time.strftime(\"%d-%m-%Y\")\n",
        "  week_before_date = week_before.strftime(\"%d-%m-%Y\")\n",
        "\n",
        "  api_date = week_before_date + \"/\" + current_date\n",
        "  return api_date\n",
        "\n",
        "api_date = get_api_date()\n",
        "print(\"Datetime used:\", api_date)"
      ]
    },
    {
      "cell_type": "code",
      "execution_count": 43,
      "metadata": {},
      "outputs": [],
      "source": [
        "def save_id_json(save_data: Dict, save_name: str) -> json:\n",
        "    with open(save_name, 'w') as f:\n",
        "        json.dump(save_data, f)\n",
        "\n",
        "def load_id_json(json_file: str) -> Dict:\n",
        "    with open(json_file, 'r') as f:\n",
        "        return json.load(f)"
      ]
    },
    {
      "cell_type": "markdown",
      "metadata": {
        "id": "jLHXUyJHwX7b"
      },
      "source": [
        "## 1. Get Each Provinsi Id"
      ]
    },
    {
      "cell_type": "code",
      "execution_count": 44,
      "metadata": {
        "id": "5EZqqolktz--"
      },
      "outputs": [
        {
          "data": {
            "text/plain": [
              "{'Aceh': 1,\n",
              " 'Sumatera Utara': 2,\n",
              " 'Sumatera Barat': 3,\n",
              " 'Riau': 4,\n",
              " 'Jambi': 5,\n",
              " 'Sumatera Selatan': 6,\n",
              " 'Bengkulu': 7,\n",
              " 'Lampung': 8,\n",
              " 'Kepulauan Bangka Belitung': 9,\n",
              " 'Kepulauan Riau': 10,\n",
              " 'DKI Jakarta': 11,\n",
              " 'Jawa Barat': 12,\n",
              " 'Jawa Tengah': 13,\n",
              " 'D.I Yogyakarta': 14,\n",
              " 'Jawa Timur': 15,\n",
              " 'Banten': 16,\n",
              " 'Bali': 17,\n",
              " 'Nusa Tenggara Barat': 18,\n",
              " 'Nusa Tenggara Timur': 19,\n",
              " 'Kalimantan Barat': 20,\n",
              " 'Kalimantan Tengah': 21,\n",
              " 'Kalimantan Selatan': 22,\n",
              " 'Kalimantan Timur': 23,\n",
              " 'Kalimantan Utara': 24,\n",
              " 'Sulawesi Utara': 25,\n",
              " 'Sulawesi Tengah': 26,\n",
              " 'Sulawesi Selatan': 27,\n",
              " 'Sulawesi Tenggara': 28,\n",
              " 'Gorontalo': 29,\n",
              " 'Sulawesi Barat': 30,\n",
              " 'Maluku': 31,\n",
              " 'Maluku Utara': 32,\n",
              " 'Papua Barat': 33,\n",
              " 'Papua': 34,\n",
              " 'Papua Barat Daya': 35,\n",
              " 'Papua Pegunungan': 36,\n",
              " 'Papua Tengah': 37,\n",
              " 'Papua Selatan': 38}"
            ]
          },
          "execution_count": 44,
          "metadata": {},
          "output_type": "execute_result"
        }
      ],
      "source": [
        "def get_prov_id(api_date: str) -> Dict:\n",
        "  api_prov_id = \"https://panelharga.badanpangan.go.id/data/provinsi-by-levelharga/3/{}\".format(api_date)\n",
        "  id_prov_json = requests.get(api_prov_id).json()\n",
        "\n",
        "  prov_id = {}\n",
        "  for prov in id_prov_json['data']:\n",
        "      prov_id[prov['nama']] = prov['id']\n",
        "\n",
        "  return prov_id\n",
        "\n",
        "province_dataset = get_prov_id(api_date)\n",
        "\n",
        "province_dataset"
      ]
    },
    {
      "cell_type": "markdown",
      "metadata": {
        "id": "UAmgGXGHwiI6"
      },
      "source": [
        "### 2. Get Each Kabupaten Id"
      ]
    },
    {
      "cell_type": "code",
      "execution_count": 45,
      "metadata": {},
      "outputs": [],
      "source": [
        "def get_kab_id(id: int) -> Dict:\n",
        "  api_kab_id = \"https://panelharga.badanpangan.go.id/data/kabkota-by-levelharga/3/{}/{}\".format(id, api_date)\n",
        "  id_kab_json = requests.get(api_kab_id).json()\n",
        "\n",
        "  kab_id = {}\n",
        "\n",
        "  for kab in id_kab_json['data']:\n",
        "    kab_id[kab['nama']] = kab['id']\n",
        "\n",
        "  return kab_id"
      ]
    },
    {
      "cell_type": "code",
      "execution_count": 46,
      "metadata": {},
      "outputs": [],
      "source": [
        "def get_kab_id_2(id: int, province_dataset) -> Dict:\n",
        "  kab_id = {}\n",
        "  # counter = 0\n",
        "  for province_id in province_dataset.values():\n",
        "    api_kab_id = \"https://panelharga.badanpangan.go.id/data/kabkota-by-levelharga/3/{}/{}\".format(province_id, api_date)\n",
        "    id_kab_json = requests.get(api_kab_id).json()\n",
        "\n",
        "    kab_each_prov = {}\n",
        "    for kab in id_kab_json['data']:\n",
        "      kab_each_prov[kab['nama']] = kab['id']\n",
        "    \n",
        "    kab_id = kab_id | kab_each_prov\n",
        "\n",
        "    # counter += 1\n",
        "    # if counter  > 5: return kab_id \n",
        "\n",
        "  return kab_id"
      ]
    },
    {
      "cell_type": "code",
      "execution_count": 47,
      "metadata": {},
      "outputs": [],
      "source": [
        "kab_id = get_kab_id_2(2, province_dataset)"
      ]
    },
    {
      "cell_type": "code",
      "execution_count": 31,
      "metadata": {},
      "outputs": [],
      "source": [
        "save_id_json(kab_id, \"kab_id.json\")"
      ]
    },
    {
      "cell_type": "code",
      "execution_count": 21,
      "metadata": {},
      "outputs": [
        {
          "data": {
            "text/plain": [
              "{'Kab. Aceh Barat': 7,\n",
              " 'Kab. Aceh Barat Daya': 12,\n",
              " 'Kab. Aceh Besar': 8,\n",
              " 'Kab. Aceh Jaya': 16,\n",
              " 'Kab. Aceh Selatan': 3,\n",
              " 'Kab. Aceh Singkil': 2,\n",
              " 'Kab. Aceh Tamiang': 14,\n",
              " 'Kab. Aceh Tengah': 6,\n",
              " 'Kab. Aceh Tenggara': 4,\n",
              " 'Kab. Aceh Timur': 5,\n",
              " 'Kab. Aceh Utara': 11,\n",
              " 'Kab. Bener Meriah': 17,\n",
              " 'Kab. Bireuen': 10,\n",
              " 'Kab. Gayo Lues': 13,\n",
              " 'Kab. Nagan Raya': 15,\n",
              " 'Kab. Pidie': 9,\n",
              " 'Kab. Pidie Jaya': 18,\n",
              " 'Kab. Simeulue': 1,\n",
              " 'Kota Banda Aceh': 19,\n",
              " 'Kota Langsa': 21,\n",
              " 'Kota Lhokseumawe': 22,\n",
              " 'Kota Sabang': 20,\n",
              " 'Kota Subulussalam': 23,\n",
              " 'Kab. Asahan': 31,\n",
              " 'Kab. Batu Bara': 42,\n",
              " 'Kab. Dairi': 33,\n",
              " 'Kab. Deli Serdang': 35,\n",
              " 'Kab. Humbang Hasundutan': 38,\n",
              " 'Kab. Karo': 34,\n",
              " 'Kab. Labuhan Batu': 30,\n",
              " 'Kab. Labuhan Batu Selatan': 45,\n",
              " 'Kab. Labuhan Batu Utara': 46,\n",
              " 'Kab. Langkat': 36,\n",
              " 'Kab. Mandailing Natal': 25,\n",
              " 'Kab. Nias': 24,\n",
              " 'Kab. Nias Barat': 48,\n",
              " 'Kab. Nias Selatan': 37,\n",
              " 'Kab. Nias Utara': 47,\n",
              " 'Kab. Padang Lawas': 44,\n",
              " 'Kab. Padang Lawas Utara': 43,\n",
              " 'Kab. Pakpak Bharat': 39,\n",
              " 'Kab. Samosir': 40,\n",
              " 'Kab. Serdang Bedagai': 41,\n",
              " 'Kab. Simalungun': 32,\n",
              " 'Kab. Tapanuli Selatan': 26,\n",
              " 'Kab. Tapanuli Tengah': 27,\n",
              " 'Kab. Tapanuli Utara': 28,\n",
              " 'Kab. Toba': 29,\n",
              " 'Kota Binjai': 54,\n",
              " 'Kota Gunungsitoli': 56,\n",
              " 'Kota Medan': 53,\n",
              " 'Kota Padangsidimpuan': 55,\n",
              " 'Kota Pematangsiantar': 51,\n",
              " 'Kota Sibolga': 49,\n",
              " 'Kota Tanjung Balai': 50,\n",
              " 'Kota Tebing Tinggi': 52,\n",
              " 'Kab. Agam': 63,\n",
              " 'Kab. Dharmasraya': 67,\n",
              " 'Kab. Kepulauan Mentawai': 57,\n",
              " 'Kab. Lima Puluh Kota': 64,\n",
              " 'Kab. Padang Pariaman': 62,\n",
              " 'Kab. Pasaman': 65,\n",
              " 'Kab. Pasaman Barat': 68,\n",
              " 'Kab. Pesisir Selatan': 58,\n",
              " 'Kab. Sijunjung': 60,\n",
              " 'Kab. Solok': 59,\n",
              " 'Kab. Solok Selatan': 66,\n",
              " 'Kab. Tanah Datar': 61,\n",
              " 'Kota Bukittinggi': 73,\n",
              " 'Kota Padang': 69,\n",
              " 'Kota Padang Panjang': 72,\n",
              " 'Kota Pariaman': 75,\n",
              " 'Kota Payakumbuh': 74,\n",
              " 'Kota Sawahlunto': 71,\n",
              " 'Kota Solok': 70,\n",
              " 'Kab. Bengkalis': 83,\n",
              " 'Kab. Indragiri Hilir': 78,\n",
              " 'Kab. Indragiri Hulu': 77,\n",
              " 'Kab. Kampar': 81,\n",
              " 'Kab. Kepulauan Meranti': 85,\n",
              " 'Kab. Kuantan Singingi': 76,\n",
              " 'Kab. Pelalawan': 79,\n",
              " 'Kab. Rokan Hilir': 84,\n",
              " 'Kab. Rokan Hulu': 82,\n",
              " 'Kab. S I A K': 80,\n",
              " 'Kota D U M A I': 87,\n",
              " 'Kota Pekanbaru': 86,\n",
              " 'Kab. Batang Hari': 91,\n",
              " 'Kab. Bungo': 96,\n",
              " 'Kab. Kerinci': 88,\n",
              " 'Kab. Merangin': 89,\n",
              " 'Kab. Muaro Jambi': 92,\n",
              " 'Kab. Sarolangun': 90,\n",
              " 'Kab. Tanjung Jabung Barat': 94,\n",
              " 'Kab. Tanjung Jabung Timur': 93,\n",
              " 'Kab. Tebo': 95,\n",
              " 'Kota Jambi': 97,\n",
              " 'Kota Sungai Penuh': 98,\n",
              " 'Kab. Banyu Asin': 105,\n",
              " 'Kab. Empat Lawang': 109,\n",
              " 'Kab. Lahat': 102,\n",
              " 'Kab. Muara Enim': 101,\n",
              " 'Kab. Musi Banyuasin': 104,\n",
              " 'Kab. Musi Rawas': 103,\n",
              " 'Kab. Musi Rawas Utara': 501,\n",
              " 'Kab. Ogan Ilir': 108,\n",
              " 'Kab. Ogan Komering Ilir': 100,\n",
              " 'Kab. Ogan Komering Ulu': 99,\n",
              " 'Kab. Ogan Komering Ulu Selatan': 106,\n",
              " 'Kab. Ogan Komering Ulu Timur': 107,\n",
              " 'Kab. Penukal Abab Lematang Ilir': 500,\n",
              " 'Kota Lubuk Linggau': 113,\n",
              " 'Kota Pagar Alam': 112,\n",
              " 'Kota Palembang': 110,\n",
              " 'Kota Prabumulih': 111}"
            ]
          },
          "execution_count": 21,
          "metadata": {},
          "output_type": "execute_result"
        }
      ],
      "source": [
        "kab_id"
      ]
    },
    {
      "cell_type": "code",
      "execution_count": 23,
      "metadata": {},
      "outputs": [],
      "source": [
        "for province in province_dataset.keys():\n",
        "    province_dataset[province] = get_kab_id(province_dataset[province])"
      ]
    },
    {
      "cell_type": "code",
      "execution_count": 7,
      "metadata": {},
      "outputs": [],
      "source": []
    },
    {
      "cell_type": "markdown",
      "metadata": {
        "id": "UeebsLDQ8T9J"
      },
      "source": [
        "### 3. Get Data Each Kabupaten"
      ]
    },
    {
      "cell_type": "code",
      "execution_count": 8,
      "metadata": {},
      "outputs": [],
      "source": [
        "data = load_id_json(\"region_id.json\")"
      ]
    },
    {
      "cell_type": "code",
      "execution_count": 13,
      "metadata": {},
      "outputs": [],
      "source": [
        "df = pd.DataFrame([\n",
        "    {'Province': province, 'District': district, 'Value': value}\n",
        "    for province, districts in data.items()\n",
        "    for district, value in districts.items()\n",
        "])"
      ]
    },
    {
      "cell_type": "code",
      "execution_count": 14,
      "metadata": {},
      "outputs": [
        {
          "data": {
            "text/html": [
              "<div>\n",
              "<style scoped>\n",
              "    .dataframe tbody tr th:only-of-type {\n",
              "        vertical-align: middle;\n",
              "    }\n",
              "\n",
              "    .dataframe tbody tr th {\n",
              "        vertical-align: top;\n",
              "    }\n",
              "\n",
              "    .dataframe thead th {\n",
              "        text-align: right;\n",
              "    }\n",
              "</style>\n",
              "<table border=\"1\" class=\"dataframe\">\n",
              "  <thead>\n",
              "    <tr style=\"text-align: right;\">\n",
              "      <th></th>\n",
              "      <th>Province</th>\n",
              "      <th>District</th>\n",
              "      <th>Value</th>\n",
              "    </tr>\n",
              "  </thead>\n",
              "  <tbody>\n",
              "    <tr>\n",
              "      <th>0</th>\n",
              "      <td>Aceh</td>\n",
              "      <td>Kab. Aceh Barat</td>\n",
              "      <td>7</td>\n",
              "    </tr>\n",
              "    <tr>\n",
              "      <th>1</th>\n",
              "      <td>Aceh</td>\n",
              "      <td>Kab. Aceh Barat Daya</td>\n",
              "      <td>12</td>\n",
              "    </tr>\n",
              "    <tr>\n",
              "      <th>2</th>\n",
              "      <td>Aceh</td>\n",
              "      <td>Kab. Aceh Besar</td>\n",
              "      <td>8</td>\n",
              "    </tr>\n",
              "    <tr>\n",
              "      <th>3</th>\n",
              "      <td>Aceh</td>\n",
              "      <td>Kab. Aceh Jaya</td>\n",
              "      <td>16</td>\n",
              "    </tr>\n",
              "    <tr>\n",
              "      <th>4</th>\n",
              "      <td>Aceh</td>\n",
              "      <td>Kab. Aceh Selatan</td>\n",
              "      <td>3</td>\n",
              "    </tr>\n",
              "    <tr>\n",
              "      <th>...</th>\n",
              "      <td>...</td>\n",
              "      <td>...</td>\n",
              "      <td>...</td>\n",
              "    </tr>\n",
              "    <tr>\n",
              "      <th>492</th>\n",
              "      <td>Papua Tengah</td>\n",
              "      <td>Kab. Intan Jaya</td>\n",
              "      <td>497</td>\n",
              "    </tr>\n",
              "    <tr>\n",
              "      <th>493</th>\n",
              "      <td>Papua Tengah</td>\n",
              "      <td>Kab. Mimika</td>\n",
              "      <td>479</td>\n",
              "    </tr>\n",
              "    <tr>\n",
              "      <th>494</th>\n",
              "      <td>Papua Tengah</td>\n",
              "      <td>Kab. Nabire</td>\n",
              "      <td>474</td>\n",
              "    </tr>\n",
              "    <tr>\n",
              "      <th>495</th>\n",
              "      <td>Papua Tengah</td>\n",
              "      <td>Kab. Puncak Jaya</td>\n",
              "      <td>478</td>\n",
              "    </tr>\n",
              "    <tr>\n",
              "      <th>496</th>\n",
              "      <td>Papua Selatan</td>\n",
              "      <td>Kab. Merauke</td>\n",
              "      <td>471</td>\n",
              "    </tr>\n",
              "  </tbody>\n",
              "</table>\n",
              "<p>497 rows × 3 columns</p>\n",
              "</div>"
            ],
            "text/plain": [
              "          Province              District  Value\n",
              "0             Aceh       Kab. Aceh Barat      7\n",
              "1             Aceh  Kab. Aceh Barat Daya     12\n",
              "2             Aceh       Kab. Aceh Besar      8\n",
              "3             Aceh        Kab. Aceh Jaya     16\n",
              "4             Aceh     Kab. Aceh Selatan      3\n",
              "..             ...                   ...    ...\n",
              "492   Papua Tengah       Kab. Intan Jaya    497\n",
              "493   Papua Tengah           Kab. Mimika    479\n",
              "494   Papua Tengah           Kab. Nabire    474\n",
              "495   Papua Tengah      Kab. Puncak Jaya    478\n",
              "496  Papua Selatan          Kab. Merauke    471\n",
              "\n",
              "[497 rows x 3 columns]"
            ]
          },
          "execution_count": 14,
          "metadata": {},
          "output_type": "execute_result"
        }
      ],
      "source": [
        "df"
      ]
    },
    {
      "cell_type": "code",
      "execution_count": 37,
      "metadata": {
        "id": "Dtv8w50U8707"
      },
      "outputs": [],
      "source": [
        "def get_cost_kab(id_kab: int) -> Dict:\n",
        "  api_cost_kab = \"https://panelharga.badanpangan.go.id/data/kabkota-range-by-levelharga/{}/3/{}\".format(id_kab, api_date)\n",
        "  cost_kab_json = requests.get(api_cost_kab).json()\n",
        "\n",
        "  cost_kab = {}\n",
        "\n",
        "  for costs in cost_kab_json['data']:\n",
        "    cost_kab[costs['name']] = [cost['geomean'] for cost in costs['by_date']]\n",
        "\n",
        "  return cost_kab"
      ]
    },
    {
      "cell_type": "code",
      "execution_count": 41,
      "metadata": {},
      "outputs": [],
      "source": [
        "def get_ingredients_cost(ingredient: str):\n",
        "    return get_cost_kab(188)[ingredient]"
      ]
    },
    {
      "cell_type": "code",
      "execution_count": 45,
      "metadata": {},
      "outputs": [],
      "source": [
        "test_log = get_ingredients_cost(\"Beras Premium\")"
      ]
    },
    {
      "cell_type": "code",
      "execution_count": 46,
      "metadata": {},
      "outputs": [
        {
          "data": {
            "text/plain": [
              "[14500, 14500, 14500, 14500, 14500, 14500, 14500, 14500]"
            ]
          },
          "execution_count": 46,
          "metadata": {},
          "output_type": "execute_result"
        }
      ],
      "source": [
        "test_log"
      ]
    },
    {
      "cell_type": "code",
      "execution_count": 39,
      "metadata": {
        "colab": {
          "base_uri": "https://localhost:8080/"
        },
        "id": "G1eIrItMGKDw",
        "outputId": "2a396c24-f549-47c9-c6f7-9d2c21053245"
      },
      "outputs": [
        {
          "data": {
            "text/plain": [
              "[14500, 14500, 14500, 14500, 14500, 14500, 14500, 14500]"
            ]
          },
          "execution_count": 39,
          "metadata": {},
          "output_type": "execute_result"
        }
      ],
      "source": [
        "get_cost_kab(188)[\"Beras Premium\"]"
      ]
    },
    {
      "cell_type": "markdown",
      "metadata": {
        "id": "ej1rBo_EOAvA"
      },
      "source": [
        "### 4. Implementation"
      ]
    },
    {
      "cell_type": "markdown",
      "metadata": {
        "id": "rl1lkj4WOEeI"
      },
      "source": [
        "E.g. We want to get the chicken egg price on Kab. Banyumas Jawa Tengah with python code."
      ]
    },
    {
      "cell_type": "code",
      "execution_count": 77,
      "metadata": {
        "id": "FADr9n-tGXjO"
      },
      "outputs": [],
      "source": [
        "class DataScraper:\n",
        "    def __init__(self):\n",
        "        # self.prov_name_   : str = \"\"\n",
        "        self.api_prov_id_  : str  = \"https://panelharga.badanpangan.go.id/data/provinsi-by-levelharga/3/{}\"\n",
        "        self.api_kab_id_   : str  = \"https://panelharga.badanpangan.go.id/data/kabkota-by-levelharga/3/{}/{}\"\n",
        "        self.api_cost_     : str  = \"https://panelharga.badanpangan.go.id/data/kabkota-range-by-levelharga/{}/3/{}\"\n",
        "        self.api_datetime_ : str  = self.get_api_date()\n",
        "        self.prov_id_      : Dict = self.get_prov_id()\n",
        "        self.kab_id_       : Dict = self.get_kab_id()\n",
        "\n",
        "    def get_api_date(self) -> str:\n",
        "        current_time = datetime.now()\n",
        "        week_before = current_time - timedelta(days=7)\n",
        "\n",
        "        current_date = current_time.strftime(\"%d-%m-%Y\")\n",
        "        week_before_date = week_before.strftime(\"%d-%m-%Y\")\n",
        "\n",
        "        api_date = week_before_date + \"/\" + current_date\n",
        "        return api_date\n",
        "    \n",
        "    def get_prov_id(self) -> Dict:\n",
        "        api_prov_id = self.api_prov_id_.format(self.api_datetime_)\n",
        "        id_prov_json = requests.get(api_prov_id).json()\n",
        "\n",
        "        prov_id = {}\n",
        "        for prov in id_prov_json['data']:\n",
        "            prov_id[prov['nama']] = prov['id']\n",
        "\n",
        "        return prov_id\n",
        "    \n",
        "    def get_kab_id(self) -> Dict:\n",
        "        kab_id = {}\n",
        "\n",
        "        for prov_id in self.prov_id_.values():\n",
        "            api_kab_id = self.api_kab_id_.format(prov_id, self.api_datetime_)\n",
        "            id_kab_json = requests.get(api_kab_id).json()\n",
        "\n",
        "            kab_iter = {}\n",
        "            for kab in id_kab_json[\"data\"]:\n",
        "                kab_iter[kab[\"nama\"]] = kab[\"id\"]\n",
        "                kab_id = kab_id | kab_iter\n",
        "        \n",
        "        return kab_id\n",
        "\n",
        "class Province(DataScraper):\n",
        "    def __init__(self, province_name: str) -> None:\n",
        "        super().__init__()\n",
        "        self.prov_name_ : str = province_name\n",
        "        self.prov_kab_id_ : Dict = self.get_prov_kab_id() \n",
        "\n",
        "    def get_prov_kab_id(self) -> Dict:\n",
        "        api_prov_kab = self.api_kab_id_.format(self.prov_id_[self.prov_name_], self.api_datetime_)\n",
        "        prov_kab_json = requests.get(api_prov_kab).json()\n",
        "\n",
        "        prov_kab_id = {}\n",
        "        for kab in prov_kab_json['data']:\n",
        "            prov_kab_id[kab['nama']] = kab['id']\n",
        "\n",
        "        return prov_kab_id\n",
        "    \n",
        "\n",
        "\n",
        "class Kabupaten(DataScraper):\n",
        "    def __init__(self, kabupaten_name: str) -> None:\n",
        "        super().__init__()\n",
        "        self.kab_name_     : str  = \"Kab. \" + kabupaten_name\n",
        "        self.api_kab_cost_ : str  = \"https://panelharga.badanpangan.go.id/data/kabkota-range-by-levelharga/{}/3/{}\".format(self.kab_id_[self.kab_name_], self.api_datetime_)\n",
        "        self.prices        : Dict = {}\n",
        "    \n",
        "    def get_ingredients_cost(self, ingredient: str) -> Dict:\n",
        "        cost_json = requests.get(self.api_kab_cost_).json()\n",
        "\n",
        "        for costs in cost_json['data']:\n",
        "            self.prices[costs['name']] = [cost['geomean'] for cost in costs['by_date']]\n",
        "\n",
        "        return self.prices[ingredient]"
      ]
    },
    {
      "cell_type": "code",
      "execution_count": 86,
      "metadata": {},
      "outputs": [
        {
          "ename": "JSONDecodeError",
          "evalue": "Expecting value: line 1 column 1 (char 0)",
          "output_type": "error",
          "traceback": [
            "\u001b[1;31m---------------------------------------------------------------------------\u001b[0m",
            "\u001b[1;31mJSONDecodeError\u001b[0m                           Traceback (most recent call last)",
            "File \u001b[1;32mc:\\Users\\acer\\miniconda3\\envs\\pytorch\\lib\\site-packages\\requests\\models.py:974\u001b[0m, in \u001b[0;36mResponse.json\u001b[1;34m(self, **kwargs)\u001b[0m\n\u001b[0;32m    973\u001b[0m \u001b[38;5;28;01mtry\u001b[39;00m:\n\u001b[1;32m--> 974\u001b[0m     \u001b[38;5;28;01mreturn\u001b[39;00m complexjson\u001b[38;5;241m.\u001b[39mloads(\u001b[38;5;28mself\u001b[39m\u001b[38;5;241m.\u001b[39mtext, \u001b[38;5;241m*\u001b[39m\u001b[38;5;241m*\u001b[39mkwargs)\n\u001b[0;32m    975\u001b[0m \u001b[38;5;28;01mexcept\u001b[39;00m JSONDecodeError \u001b[38;5;28;01mas\u001b[39;00m e:\n\u001b[0;32m    976\u001b[0m     \u001b[38;5;66;03m# Catch JSON-related errors and raise as requests.JSONDecodeError\u001b[39;00m\n\u001b[0;32m    977\u001b[0m     \u001b[38;5;66;03m# This aliases json.JSONDecodeError and simplejson.JSONDecodeError\u001b[39;00m\n",
            "File \u001b[1;32mc:\\Users\\acer\\miniconda3\\envs\\pytorch\\lib\\json\\__init__.py:346\u001b[0m, in \u001b[0;36mloads\u001b[1;34m(s, cls, object_hook, parse_float, parse_int, parse_constant, object_pairs_hook, **kw)\u001b[0m\n\u001b[0;32m    343\u001b[0m \u001b[38;5;28;01mif\u001b[39;00m (\u001b[38;5;28mcls\u001b[39m \u001b[38;5;129;01mis\u001b[39;00m \u001b[38;5;28;01mNone\u001b[39;00m \u001b[38;5;129;01mand\u001b[39;00m object_hook \u001b[38;5;129;01mis\u001b[39;00m \u001b[38;5;28;01mNone\u001b[39;00m \u001b[38;5;129;01mand\u001b[39;00m\n\u001b[0;32m    344\u001b[0m         parse_int \u001b[38;5;129;01mis\u001b[39;00m \u001b[38;5;28;01mNone\u001b[39;00m \u001b[38;5;129;01mand\u001b[39;00m parse_float \u001b[38;5;129;01mis\u001b[39;00m \u001b[38;5;28;01mNone\u001b[39;00m \u001b[38;5;129;01mand\u001b[39;00m\n\u001b[0;32m    345\u001b[0m         parse_constant \u001b[38;5;129;01mis\u001b[39;00m \u001b[38;5;28;01mNone\u001b[39;00m \u001b[38;5;129;01mand\u001b[39;00m object_pairs_hook \u001b[38;5;129;01mis\u001b[39;00m \u001b[38;5;28;01mNone\u001b[39;00m \u001b[38;5;129;01mand\u001b[39;00m \u001b[38;5;129;01mnot\u001b[39;00m kw):\n\u001b[1;32m--> 346\u001b[0m     \u001b[38;5;28;01mreturn\u001b[39;00m \u001b[43m_default_decoder\u001b[49m\u001b[38;5;241;43m.\u001b[39;49m\u001b[43mdecode\u001b[49m\u001b[43m(\u001b[49m\u001b[43ms\u001b[49m\u001b[43m)\u001b[49m\n\u001b[0;32m    347\u001b[0m \u001b[38;5;28;01mif\u001b[39;00m \u001b[38;5;28mcls\u001b[39m \u001b[38;5;129;01mis\u001b[39;00m \u001b[38;5;28;01mNone\u001b[39;00m:\n",
            "File \u001b[1;32mc:\\Users\\acer\\miniconda3\\envs\\pytorch\\lib\\json\\decoder.py:337\u001b[0m, in \u001b[0;36mJSONDecoder.decode\u001b[1;34m(self, s, _w)\u001b[0m\n\u001b[0;32m    333\u001b[0m \u001b[38;5;250m\u001b[39m\u001b[38;5;124;03m\"\"\"Return the Python representation of ``s`` (a ``str`` instance\u001b[39;00m\n\u001b[0;32m    334\u001b[0m \u001b[38;5;124;03mcontaining a JSON document).\u001b[39;00m\n\u001b[0;32m    335\u001b[0m \n\u001b[0;32m    336\u001b[0m \u001b[38;5;124;03m\"\"\"\u001b[39;00m\n\u001b[1;32m--> 337\u001b[0m obj, end \u001b[38;5;241m=\u001b[39m \u001b[38;5;28;43mself\u001b[39;49m\u001b[38;5;241;43m.\u001b[39;49m\u001b[43mraw_decode\u001b[49m\u001b[43m(\u001b[49m\u001b[43ms\u001b[49m\u001b[43m,\u001b[49m\u001b[43m \u001b[49m\u001b[43midx\u001b[49m\u001b[38;5;241;43m=\u001b[39;49m\u001b[43m_w\u001b[49m\u001b[43m(\u001b[49m\u001b[43ms\u001b[49m\u001b[43m,\u001b[49m\u001b[43m \u001b[49m\u001b[38;5;241;43m0\u001b[39;49m\u001b[43m)\u001b[49m\u001b[38;5;241;43m.\u001b[39;49m\u001b[43mend\u001b[49m\u001b[43m(\u001b[49m\u001b[43m)\u001b[49m\u001b[43m)\u001b[49m\n\u001b[0;32m    338\u001b[0m end \u001b[38;5;241m=\u001b[39m _w(s, end)\u001b[38;5;241m.\u001b[39mend()\n",
            "File \u001b[1;32mc:\\Users\\acer\\miniconda3\\envs\\pytorch\\lib\\json\\decoder.py:355\u001b[0m, in \u001b[0;36mJSONDecoder.raw_decode\u001b[1;34m(self, s, idx)\u001b[0m\n\u001b[0;32m    354\u001b[0m \u001b[38;5;28;01mexcept\u001b[39;00m \u001b[38;5;167;01mStopIteration\u001b[39;00m \u001b[38;5;28;01mas\u001b[39;00m err:\n\u001b[1;32m--> 355\u001b[0m     \u001b[38;5;28;01mraise\u001b[39;00m JSONDecodeError(\u001b[38;5;124m\"\u001b[39m\u001b[38;5;124mExpecting value\u001b[39m\u001b[38;5;124m\"\u001b[39m, s, err\u001b[38;5;241m.\u001b[39mvalue) \u001b[38;5;28;01mfrom\u001b[39;00m \u001b[38;5;28;01mNone\u001b[39;00m\n\u001b[0;32m    356\u001b[0m \u001b[38;5;28;01mreturn\u001b[39;00m obj, end\n",
            "\u001b[1;31mJSONDecodeError\u001b[0m: Expecting value: line 1 column 1 (char 0)",
            "\nDuring handling of the above exception, another exception occurred:\n",
            "\u001b[1;31mJSONDecodeError\u001b[0m                           Traceback (most recent call last)",
            "Cell \u001b[1;32mIn[86], line 1\u001b[0m\n\u001b[1;32m----> 1\u001b[0m test_kab \u001b[38;5;241m=\u001b[39m \u001b[43mKabupaten\u001b[49m\u001b[43m(\u001b[49m\u001b[38;5;124;43m\"\u001b[39;49m\u001b[38;5;124;43mAceh Barat\u001b[39;49m\u001b[38;5;124;43m\"\u001b[39;49m\u001b[43m)\u001b[49m\n",
            "Cell \u001b[1;32mIn[77], line 65\u001b[0m, in \u001b[0;36mKabupaten.__init__\u001b[1;34m(self, kabupaten_name)\u001b[0m\n\u001b[0;32m     64\u001b[0m \u001b[38;5;28;01mdef\u001b[39;00m \u001b[38;5;21m__init__\u001b[39m(\u001b[38;5;28mself\u001b[39m, kabupaten_name: \u001b[38;5;28mstr\u001b[39m) \u001b[38;5;241m-\u001b[39m\u001b[38;5;241m>\u001b[39m \u001b[38;5;28;01mNone\u001b[39;00m:\n\u001b[1;32m---> 65\u001b[0m     \u001b[38;5;28;43msuper\u001b[39;49m\u001b[43m(\u001b[49m\u001b[43m)\u001b[49m\u001b[38;5;241;43m.\u001b[39;49m\u001b[38;5;21;43m__init__\u001b[39;49m\u001b[43m(\u001b[49m\u001b[43m)\u001b[49m\n\u001b[0;32m     66\u001b[0m     \u001b[38;5;28mself\u001b[39m\u001b[38;5;241m.\u001b[39mkab_name_     : \u001b[38;5;28mstr\u001b[39m  \u001b[38;5;241m=\u001b[39m \u001b[38;5;124m\"\u001b[39m\u001b[38;5;124mKab. \u001b[39m\u001b[38;5;124m\"\u001b[39m \u001b[38;5;241m+\u001b[39m kabupaten_name\n\u001b[0;32m     67\u001b[0m     \u001b[38;5;28mself\u001b[39m\u001b[38;5;241m.\u001b[39mapi_kab_cost_ : \u001b[38;5;28mstr\u001b[39m  \u001b[38;5;241m=\u001b[39m \u001b[38;5;124m\"\u001b[39m\u001b[38;5;124mhttps://panelharga.badanpangan.go.id/data/kabkota-range-by-levelharga/\u001b[39m\u001b[38;5;132;01m{}\u001b[39;00m\u001b[38;5;124m/3/\u001b[39m\u001b[38;5;132;01m{}\u001b[39;00m\u001b[38;5;124m\"\u001b[39m\u001b[38;5;241m.\u001b[39mformat(\u001b[38;5;28mself\u001b[39m\u001b[38;5;241m.\u001b[39mkab_id_[\u001b[38;5;28mself\u001b[39m\u001b[38;5;241m.\u001b[39mkab_name_], \u001b[38;5;28mself\u001b[39m\u001b[38;5;241m.\u001b[39mapi_datetime_)\n",
            "Cell \u001b[1;32mIn[77], line 9\u001b[0m, in \u001b[0;36mDataScraper.__init__\u001b[1;34m(self)\u001b[0m\n\u001b[0;32m      7\u001b[0m \u001b[38;5;28mself\u001b[39m\u001b[38;5;241m.\u001b[39mapi_datetime_ : \u001b[38;5;28mstr\u001b[39m  \u001b[38;5;241m=\u001b[39m \u001b[38;5;28mself\u001b[39m\u001b[38;5;241m.\u001b[39mget_api_date()\n\u001b[0;32m      8\u001b[0m \u001b[38;5;28mself\u001b[39m\u001b[38;5;241m.\u001b[39mprov_id_      : Dict \u001b[38;5;241m=\u001b[39m \u001b[38;5;28mself\u001b[39m\u001b[38;5;241m.\u001b[39mget_prov_id()\n\u001b[1;32m----> 9\u001b[0m \u001b[38;5;28mself\u001b[39m\u001b[38;5;241m.\u001b[39mkab_id_       : Dict \u001b[38;5;241m=\u001b[39m \u001b[38;5;28;43mself\u001b[39;49m\u001b[38;5;241;43m.\u001b[39;49m\u001b[43mget_kab_id\u001b[49m\u001b[43m(\u001b[49m\u001b[43m)\u001b[49m\n",
            "Cell \u001b[1;32mIn[77], line 36\u001b[0m, in \u001b[0;36mDataScraper.get_kab_id\u001b[1;34m(self)\u001b[0m\n\u001b[0;32m     34\u001b[0m \u001b[38;5;28;01mfor\u001b[39;00m prov_id \u001b[38;5;129;01min\u001b[39;00m \u001b[38;5;28mself\u001b[39m\u001b[38;5;241m.\u001b[39mprov_id_\u001b[38;5;241m.\u001b[39mvalues():\n\u001b[0;32m     35\u001b[0m     api_kab_id \u001b[38;5;241m=\u001b[39m \u001b[38;5;28mself\u001b[39m\u001b[38;5;241m.\u001b[39mapi_kab_id_\u001b[38;5;241m.\u001b[39mformat(prov_id, \u001b[38;5;28mself\u001b[39m\u001b[38;5;241m.\u001b[39mapi_datetime_)\n\u001b[1;32m---> 36\u001b[0m     id_kab_json \u001b[38;5;241m=\u001b[39m \u001b[43mrequests\u001b[49m\u001b[38;5;241;43m.\u001b[39;49m\u001b[43mget\u001b[49m\u001b[43m(\u001b[49m\u001b[43mapi_kab_id\u001b[49m\u001b[43m)\u001b[49m\u001b[38;5;241;43m.\u001b[39;49m\u001b[43mjson\u001b[49m\u001b[43m(\u001b[49m\u001b[43m)\u001b[49m\n\u001b[0;32m     38\u001b[0m     kab_iter \u001b[38;5;241m=\u001b[39m {}\n\u001b[0;32m     39\u001b[0m     \u001b[38;5;28;01mfor\u001b[39;00m kab \u001b[38;5;129;01min\u001b[39;00m id_kab_json[\u001b[38;5;124m\"\u001b[39m\u001b[38;5;124mdata\u001b[39m\u001b[38;5;124m\"\u001b[39m]:\n",
            "File \u001b[1;32mc:\\Users\\acer\\miniconda3\\envs\\pytorch\\lib\\site-packages\\requests\\models.py:978\u001b[0m, in \u001b[0;36mResponse.json\u001b[1;34m(self, **kwargs)\u001b[0m\n\u001b[0;32m    974\u001b[0m     \u001b[38;5;28;01mreturn\u001b[39;00m complexjson\u001b[38;5;241m.\u001b[39mloads(\u001b[38;5;28mself\u001b[39m\u001b[38;5;241m.\u001b[39mtext, \u001b[38;5;241m*\u001b[39m\u001b[38;5;241m*\u001b[39mkwargs)\n\u001b[0;32m    975\u001b[0m \u001b[38;5;28;01mexcept\u001b[39;00m JSONDecodeError \u001b[38;5;28;01mas\u001b[39;00m e:\n\u001b[0;32m    976\u001b[0m     \u001b[38;5;66;03m# Catch JSON-related errors and raise as requests.JSONDecodeError\u001b[39;00m\n\u001b[0;32m    977\u001b[0m     \u001b[38;5;66;03m# This aliases json.JSONDecodeError and simplejson.JSONDecodeError\u001b[39;00m\n\u001b[1;32m--> 978\u001b[0m     \u001b[38;5;28;01mraise\u001b[39;00m RequestsJSONDecodeError(e\u001b[38;5;241m.\u001b[39mmsg, e\u001b[38;5;241m.\u001b[39mdoc, e\u001b[38;5;241m.\u001b[39mpos)\n",
            "\u001b[1;31mJSONDecodeError\u001b[0m: Expecting value: line 1 column 1 (char 0)"
          ]
        }
      ],
      "source": [
        "test_kab = Kabupaten(\"Aceh Barat\")\n",
        "# test_kab.get_ingredients_cost(\"Jagung\")"
      ]
    },
    {
      "cell_type": "code",
      "execution_count": 88,
      "metadata": {},
      "outputs": [
        {
          "data": {
            "text/plain": [
              "{'Beras Premium': [14250, 14250, 14490, 14490, 14490, 14490, 14490, '-'],\n",
              " 'Beras Medium': [12750, 12750, 12750, 12750, 12750, 12750, 12750, '-'],\n",
              " 'Kedelai Biji Kering (Impor)': [10670,\n",
              "  10670,\n",
              "  10670,\n",
              "  10670,\n",
              "  10670,\n",
              "  10670,\n",
              "  10670,\n",
              "  '-'],\n",
              " 'Bawang Merah': [25920, 26460, 26460, 26460, 26460, 26460, 26460, '-'],\n",
              " 'Bawang Putih Bonggol': [35500,\n",
              "  35500,\n",
              "  35500,\n",
              "  35500,\n",
              "  35500,\n",
              "  35500,\n",
              "  35500,\n",
              "  '-'],\n",
              " 'Cabai Merah Keriting': [22360,\n",
              "  22360,\n",
              "  21910,\n",
              "  21910,\n",
              "  21910,\n",
              "  23240,\n",
              "  22360,\n",
              "  '-'],\n",
              " 'Cabai Rawit Merah': [42430, 40000, 40000, 40000, 40000, 40000, 40000, '-'],\n",
              " 'Daging Sapi Murni': [132480,\n",
              "  132480,\n",
              "  132480,\n",
              "  132480,\n",
              "  132480,\n",
              "  132480,\n",
              "  132480,\n",
              "  '-'],\n",
              " 'Daging Ayam Ras': [36410, 36410, 36880, 36880, 36880, 36880, 36880, '-'],\n",
              " 'Telur Ayam Ras': [26000, 27500, 26500, 26500, 26500, 26500, 26500, '-'],\n",
              " 'Gula Konsumsi': [17000, 17000, 17000, 17000, 17000, 17000, 17000, '-'],\n",
              " 'Minyak Goreng Kemasan Sederhana': [17730,\n",
              "  17730,\n",
              "  17730,\n",
              "  17730,\n",
              "  17730,\n",
              "  17730,\n",
              "  17730,\n",
              "  '-'],\n",
              " 'Tepung Terigu (Curah)': [9220, 9220, 9220, 9220, 9220, 9220, 9220, '-'],\n",
              " 'Minyak Goreng Curah': [16750, 16750, 16750, 16750, 16750, 16750, 17000, '-'],\n",
              " 'Jagung Tk Peternak': ['-', '-', '-', '-', '-', '-', '-', '-'],\n",
              " 'Ikan Kembung': [31300, 31300, 31300, 31300, 31300, 31300, 31300, '-'],\n",
              " 'Ikan Tongkol': [32400, 32400, 32400, 32400, 34640, 32400, 32400, '-'],\n",
              " 'Ikan Bandeng': [34060, 34060, 34060, 34060, 34060, 34060, 34060, '-'],\n",
              " 'Garam Halus Beryodium': [10000,\n",
              "  10000,\n",
              "  10000,\n",
              "  10000,\n",
              "  10000,\n",
              "  10000,\n",
              "  10000,\n",
              "  '-'],\n",
              " 'Tepung Terigu Kemasan (non-curah)': [12490,\n",
              "  12490,\n",
              "  12490,\n",
              "  12490,\n",
              "  12490,\n",
              "  12490,\n",
              "  12490,\n",
              "  '-'],\n",
              " 'Beras SPHP': [11300, 11300, 11300, 11300, 11300, 11300, 11300, '-']}"
            ]
          },
          "execution_count": 88,
          "metadata": {},
          "output_type": "execute_result"
        }
      ],
      "source": [
        "test_kab.prices"
      ]
    },
    {
      "cell_type": "code",
      "execution_count": 87,
      "metadata": {},
      "outputs": [
        {
          "data": {
            "text/plain": [
              "[25920, 26460, 26460, 26460, 26460, 26460, 26460, '-']"
            ]
          },
          "execution_count": 87,
          "metadata": {},
          "output_type": "execute_result"
        }
      ],
      "source": [
        "test_kab.get_ingredients_cost(\"Bawang Merah\") "
      ]
    },
    {
      "cell_type": "code",
      "execution_count": 79,
      "metadata": {},
      "outputs": [
        {
          "data": {
            "text/plain": [
              "'https://panelharga.badanpangan.go.id/data/kabkota-range-by-levelharga/187/3/21-10-2024/28-10-2024'"
            ]
          },
          "execution_count": 79,
          "metadata": {},
          "output_type": "execute_result"
        }
      ],
      "source": [
        "test_kab.api_kab_cost_"
      ]
    },
    {
      "cell_type": "code",
      "execution_count": 67,
      "metadata": {},
      "outputs": [],
      "source": [
        "test_province = Province(\"Jawa Tengah\")"
      ]
    },
    {
      "cell_type": "code",
      "execution_count": 68,
      "metadata": {},
      "outputs": [
        {
          "data": {
            "text/plain": [
              "{'Kab. Banjarnegara': 189,\n",
              " 'Kab. Banyumas': 187,\n",
              " 'Kab. Batang': 210,\n",
              " 'Kab. Blora': 201,\n",
              " 'Kab. Boyolali': 194,\n",
              " 'Kab. Brebes': 214,\n",
              " 'Kab. Cilacap': 186,\n",
              " 'Kab. Demak': 206,\n",
              " 'Kab. Grobogan': 200,\n",
              " 'Kab. Jepara': 205,\n",
              " 'Kab. Karanganyar': 198,\n",
              " 'Kab. Kebumen': 190,\n",
              " 'Kab. Kendal': 209,\n",
              " 'Kab. Klaten': 195,\n",
              " 'Kab. Kudus': 204,\n",
              " 'Kab. Magelang': 193,\n",
              " 'Kab. Pati': 203,\n",
              " 'Kab. Pekalongan': 211,\n",
              " 'Kab. Pemalang': 212,\n",
              " 'Kab. Purbalingga': 188,\n",
              " 'Kab. Purworejo': 191,\n",
              " 'Kab. Rembang': 202,\n",
              " 'Kab. Semarang': 207,\n",
              " 'Kab. Sragen': 199,\n",
              " 'Kab. Sukoharjo': 196,\n",
              " 'Kab. Tegal': 213,\n",
              " 'Kab. Temanggung': 208,\n",
              " 'Kab. Wonogiri': 197,\n",
              " 'Kab. Wonosobo': 192,\n",
              " 'Kota Magelang': 215,\n",
              " 'Kota Pekalongan': 219,\n",
              " 'Kota Salatiga': 217,\n",
              " 'Kota Semarang': 218,\n",
              " 'Kota Surakarta': 216,\n",
              " 'Kota Tegal': 220}"
            ]
          },
          "execution_count": 68,
          "metadata": {},
          "output_type": "execute_result"
        }
      ],
      "source": [
        "test_province.prov_kab_id_"
      ]
    },
    {
      "cell_type": "code",
      "execution_count": 58,
      "metadata": {},
      "outputs": [],
      "source": [
        "test_prov = Province()"
      ]
    },
    {
      "cell_type": "code",
      "execution_count": null,
      "metadata": {},
      "outputs": [],
      "source": [
        "test"
      ]
    },
    {
      "cell_type": "code",
      "execution_count": 63,
      "metadata": {},
      "outputs": [
        {
          "ename": "NameError",
          "evalue": "name 'Kabupaten' is not defined",
          "output_type": "error",
          "traceback": [
            "\u001b[1;31m---------------------------------------------------------------------------\u001b[0m",
            "\u001b[1;31mNameError\u001b[0m                                 Traceback (most recent call last)",
            "Cell \u001b[1;32mIn[63], line 1\u001b[0m\n\u001b[1;32m----> 1\u001b[0m jawa_tengah \u001b[38;5;241m=\u001b[39m \u001b[43mKabupaten\u001b[49m(\u001b[38;5;124m\"\u001b[39m\u001b[38;5;124mBanyumas\u001b[39m\u001b[38;5;124m\"\u001b[39m)\n",
            "\u001b[1;31mNameError\u001b[0m: name 'Kabupaten' is not defined"
          ]
        }
      ],
      "source": [
        "jawa_tengah = Kabupaten(\"Banyumas\")"
      ]
    },
    {
      "cell_type": "code",
      "execution_count": 64,
      "metadata": {},
      "outputs": [
        {
          "data": {
            "text/plain": [
              "{'Aceh': 1,\n",
              " 'Sumatera Utara': 2,\n",
              " 'Sumatera Barat': 3,\n",
              " 'Riau': 4,\n",
              " 'Jambi': 5,\n",
              " 'Sumatera Selatan': 6,\n",
              " 'Bengkulu': 7,\n",
              " 'Lampung': 8,\n",
              " 'Kepulauan Bangka Belitung': 9,\n",
              " 'Kepulauan Riau': 10,\n",
              " 'DKI Jakarta': 11,\n",
              " 'Jawa Barat': 12,\n",
              " 'Jawa Tengah': 13,\n",
              " 'D.I Yogyakarta': 14,\n",
              " 'Jawa Timur': 15,\n",
              " 'Banten': 16,\n",
              " 'Bali': 17,\n",
              " 'Nusa Tenggara Barat': 18,\n",
              " 'Nusa Tenggara Timur': 19,\n",
              " 'Kalimantan Barat': 20,\n",
              " 'Kalimantan Tengah': 21,\n",
              " 'Kalimantan Selatan': 22,\n",
              " 'Kalimantan Timur': 23,\n",
              " 'Kalimantan Utara': 24,\n",
              " 'Sulawesi Utara': 25,\n",
              " 'Sulawesi Tengah': 26,\n",
              " 'Sulawesi Selatan': 27,\n",
              " 'Sulawesi Tenggara': 28,\n",
              " 'Gorontalo': 29,\n",
              " 'Sulawesi Barat': 30,\n",
              " 'Maluku': 31,\n",
              " 'Maluku Utara': 32,\n",
              " 'Papua Barat': 33,\n",
              " 'Papua': 34,\n",
              " 'Papua Barat Daya': 35,\n",
              " 'Papua Pegunungan': 36,\n",
              " 'Papua Tengah': 37,\n",
              " 'Papua Selatan': 38}"
            ]
          },
          "execution_count": 64,
          "metadata": {},
          "output_type": "execute_result"
        }
      ],
      "source": [
        "jawa_tengah.prov_id_"
      ]
    },
    {
      "cell_type": "code",
      "execution_count": 62,
      "metadata": {},
      "outputs": [
        {
          "data": {
            "text/plain": [
              "[14250, 14250, 14250, 14490, 14490, 14490, 14490, 14490]"
            ]
          },
          "execution_count": 62,
          "metadata": {},
          "output_type": "execute_result"
        }
      ],
      "source": [
        "jawa_tengah.get_ingredients_cost('Beras Premium')"
      ]
    },
    {
      "cell_type": "markdown",
      "metadata": {},
      "source": [
        "Clean up the codes"
      ]
    },
    {
      "cell_type": "code",
      "execution_count": 32,
      "metadata": {},
      "outputs": [
        {
          "data": {
            "text/plain": [
              "187"
            ]
          },
          "execution_count": 32,
          "metadata": {},
          "output_type": "execute_result"
        }
      ],
      "source": [
        "kab_id[\"Kab. Banyumas\"]"
      ]
    },
    {
      "cell_type": "code",
      "execution_count": 74,
      "metadata": {},
      "outputs": [],
      "source": [
        "from get_price import Kabupaten"
      ]
    },
    {
      "cell_type": "code",
      "execution_count": 75,
      "metadata": {},
      "outputs": [],
      "source": [
        "banyumas = Kabupaten(\"Banyumas\")"
      ]
    },
    {
      "cell_type": "code",
      "execution_count": 76,
      "metadata": {},
      "outputs": [
        {
          "ename": "JSONDecodeError",
          "evalue": "Expecting value: line 1 column 1 (char 0)",
          "output_type": "error",
          "traceback": [
            "\u001b[1;31m---------------------------------------------------------------------------\u001b[0m",
            "\u001b[1;31mJSONDecodeError\u001b[0m                           Traceback (most recent call last)",
            "File \u001b[1;32mc:\\Users\\acer\\miniconda3\\envs\\pytorch\\lib\\site-packages\\requests\\models.py:974\u001b[0m, in \u001b[0;36mResponse.json\u001b[1;34m(self, **kwargs)\u001b[0m\n\u001b[0;32m    973\u001b[0m \u001b[38;5;28;01mtry\u001b[39;00m:\n\u001b[1;32m--> 974\u001b[0m     \u001b[38;5;28;01mreturn\u001b[39;00m complexjson\u001b[38;5;241m.\u001b[39mloads(\u001b[38;5;28mself\u001b[39m\u001b[38;5;241m.\u001b[39mtext, \u001b[38;5;241m*\u001b[39m\u001b[38;5;241m*\u001b[39mkwargs)\n\u001b[0;32m    975\u001b[0m \u001b[38;5;28;01mexcept\u001b[39;00m JSONDecodeError \u001b[38;5;28;01mas\u001b[39;00m e:\n\u001b[0;32m    976\u001b[0m     \u001b[38;5;66;03m# Catch JSON-related errors and raise as requests.JSONDecodeError\u001b[39;00m\n\u001b[0;32m    977\u001b[0m     \u001b[38;5;66;03m# This aliases json.JSONDecodeError and simplejson.JSONDecodeError\u001b[39;00m\n",
            "File \u001b[1;32mc:\\Users\\acer\\miniconda3\\envs\\pytorch\\lib\\json\\__init__.py:346\u001b[0m, in \u001b[0;36mloads\u001b[1;34m(s, cls, object_hook, parse_float, parse_int, parse_constant, object_pairs_hook, **kw)\u001b[0m\n\u001b[0;32m    343\u001b[0m \u001b[38;5;28;01mif\u001b[39;00m (\u001b[38;5;28mcls\u001b[39m \u001b[38;5;129;01mis\u001b[39;00m \u001b[38;5;28;01mNone\u001b[39;00m \u001b[38;5;129;01mand\u001b[39;00m object_hook \u001b[38;5;129;01mis\u001b[39;00m \u001b[38;5;28;01mNone\u001b[39;00m \u001b[38;5;129;01mand\u001b[39;00m\n\u001b[0;32m    344\u001b[0m         parse_int \u001b[38;5;129;01mis\u001b[39;00m \u001b[38;5;28;01mNone\u001b[39;00m \u001b[38;5;129;01mand\u001b[39;00m parse_float \u001b[38;5;129;01mis\u001b[39;00m \u001b[38;5;28;01mNone\u001b[39;00m \u001b[38;5;129;01mand\u001b[39;00m\n\u001b[0;32m    345\u001b[0m         parse_constant \u001b[38;5;129;01mis\u001b[39;00m \u001b[38;5;28;01mNone\u001b[39;00m \u001b[38;5;129;01mand\u001b[39;00m object_pairs_hook \u001b[38;5;129;01mis\u001b[39;00m \u001b[38;5;28;01mNone\u001b[39;00m \u001b[38;5;129;01mand\u001b[39;00m \u001b[38;5;129;01mnot\u001b[39;00m kw):\n\u001b[1;32m--> 346\u001b[0m     \u001b[38;5;28;01mreturn\u001b[39;00m \u001b[43m_default_decoder\u001b[49m\u001b[38;5;241;43m.\u001b[39;49m\u001b[43mdecode\u001b[49m\u001b[43m(\u001b[49m\u001b[43ms\u001b[49m\u001b[43m)\u001b[49m\n\u001b[0;32m    347\u001b[0m \u001b[38;5;28;01mif\u001b[39;00m \u001b[38;5;28mcls\u001b[39m \u001b[38;5;129;01mis\u001b[39;00m \u001b[38;5;28;01mNone\u001b[39;00m:\n",
            "File \u001b[1;32mc:\\Users\\acer\\miniconda3\\envs\\pytorch\\lib\\json\\decoder.py:337\u001b[0m, in \u001b[0;36mJSONDecoder.decode\u001b[1;34m(self, s, _w)\u001b[0m\n\u001b[0;32m    333\u001b[0m \u001b[38;5;250m\u001b[39m\u001b[38;5;124;03m\"\"\"Return the Python representation of ``s`` (a ``str`` instance\u001b[39;00m\n\u001b[0;32m    334\u001b[0m \u001b[38;5;124;03mcontaining a JSON document).\u001b[39;00m\n\u001b[0;32m    335\u001b[0m \n\u001b[0;32m    336\u001b[0m \u001b[38;5;124;03m\"\"\"\u001b[39;00m\n\u001b[1;32m--> 337\u001b[0m obj, end \u001b[38;5;241m=\u001b[39m \u001b[38;5;28;43mself\u001b[39;49m\u001b[38;5;241;43m.\u001b[39;49m\u001b[43mraw_decode\u001b[49m\u001b[43m(\u001b[49m\u001b[43ms\u001b[49m\u001b[43m,\u001b[49m\u001b[43m \u001b[49m\u001b[43midx\u001b[49m\u001b[38;5;241;43m=\u001b[39;49m\u001b[43m_w\u001b[49m\u001b[43m(\u001b[49m\u001b[43ms\u001b[49m\u001b[43m,\u001b[49m\u001b[43m \u001b[49m\u001b[38;5;241;43m0\u001b[39;49m\u001b[43m)\u001b[49m\u001b[38;5;241;43m.\u001b[39;49m\u001b[43mend\u001b[49m\u001b[43m(\u001b[49m\u001b[43m)\u001b[49m\u001b[43m)\u001b[49m\n\u001b[0;32m    338\u001b[0m end \u001b[38;5;241m=\u001b[39m _w(s, end)\u001b[38;5;241m.\u001b[39mend()\n",
            "File \u001b[1;32mc:\\Users\\acer\\miniconda3\\envs\\pytorch\\lib\\json\\decoder.py:355\u001b[0m, in \u001b[0;36mJSONDecoder.raw_decode\u001b[1;34m(self, s, idx)\u001b[0m\n\u001b[0;32m    354\u001b[0m \u001b[38;5;28;01mexcept\u001b[39;00m \u001b[38;5;167;01mStopIteration\u001b[39;00m \u001b[38;5;28;01mas\u001b[39;00m err:\n\u001b[1;32m--> 355\u001b[0m     \u001b[38;5;28;01mraise\u001b[39;00m JSONDecodeError(\u001b[38;5;124m\"\u001b[39m\u001b[38;5;124mExpecting value\u001b[39m\u001b[38;5;124m\"\u001b[39m, s, err\u001b[38;5;241m.\u001b[39mvalue) \u001b[38;5;28;01mfrom\u001b[39;00m \u001b[38;5;28;01mNone\u001b[39;00m\n\u001b[0;32m    356\u001b[0m \u001b[38;5;28;01mreturn\u001b[39;00m obj, end\n",
            "\u001b[1;31mJSONDecodeError\u001b[0m: Expecting value: line 1 column 1 (char 0)",
            "\nDuring handling of the above exception, another exception occurred:\n",
            "\u001b[1;31mJSONDecodeError\u001b[0m                           Traceback (most recent call last)",
            "Cell \u001b[1;32mIn[76], line 1\u001b[0m\n\u001b[1;32m----> 1\u001b[0m \u001b[43mbanyumas\u001b[49m\u001b[38;5;241;43m.\u001b[39;49m\u001b[43mget_ingredients_cost\u001b[49m\u001b[43m(\u001b[49m\u001b[38;5;124;43m\"\u001b[39;49m\u001b[38;5;124;43mJagung\u001b[39;49m\u001b[38;5;124;43m\"\u001b[39;49m\u001b[43m)\u001b[49m\n",
            "File \u001b[1;32md:\\Code\\TSDN2024\\TumbuhKuy\\src\\ingredients_price\\get_price.py:75\u001b[0m, in \u001b[0;36mKabupaten.get_ingredients_cost\u001b[1;34m(self, ingredient)\u001b[0m\n\u001b[0;32m     74\u001b[0m \u001b[38;5;28;01mdef\u001b[39;00m \u001b[38;5;21mget_ingredients_cost\u001b[39m(\u001b[38;5;28mself\u001b[39m, ingredient: \u001b[38;5;28mstr\u001b[39m) \u001b[38;5;241m-\u001b[39m\u001b[38;5;241m>\u001b[39m Dict:\n\u001b[1;32m---> 75\u001b[0m     cost_json \u001b[38;5;241m=\u001b[39m \u001b[43mrequests\u001b[49m\u001b[38;5;241;43m.\u001b[39;49m\u001b[43mget\u001b[49m\u001b[43m(\u001b[49m\u001b[38;5;28;43mself\u001b[39;49m\u001b[38;5;241;43m.\u001b[39;49m\u001b[43mapi_cost_\u001b[49m\u001b[43m)\u001b[49m\u001b[38;5;241;43m.\u001b[39;49m\u001b[43mjson\u001b[49m\u001b[43m(\u001b[49m\u001b[43m)\u001b[49m\n\u001b[0;32m     77\u001b[0m     \u001b[38;5;28;01mfor\u001b[39;00m costs \u001b[38;5;129;01min\u001b[39;00m cost_json[\u001b[38;5;124m'\u001b[39m\u001b[38;5;124mdata\u001b[39m\u001b[38;5;124m'\u001b[39m]:\n\u001b[0;32m     78\u001b[0m         \u001b[38;5;28mself\u001b[39m\u001b[38;5;241m.\u001b[39mprices[costs[\u001b[38;5;124m'\u001b[39m\u001b[38;5;124mname\u001b[39m\u001b[38;5;124m'\u001b[39m]] \u001b[38;5;241m=\u001b[39m [cost[\u001b[38;5;124m'\u001b[39m\u001b[38;5;124mgeomean\u001b[39m\u001b[38;5;124m'\u001b[39m] \u001b[38;5;28;01mfor\u001b[39;00m cost \u001b[38;5;129;01min\u001b[39;00m costs[\u001b[38;5;124m'\u001b[39m\u001b[38;5;124mby_date\u001b[39m\u001b[38;5;124m'\u001b[39m]]\n",
            "File \u001b[1;32mc:\\Users\\acer\\miniconda3\\envs\\pytorch\\lib\\site-packages\\requests\\models.py:978\u001b[0m, in \u001b[0;36mResponse.json\u001b[1;34m(self, **kwargs)\u001b[0m\n\u001b[0;32m    974\u001b[0m     \u001b[38;5;28;01mreturn\u001b[39;00m complexjson\u001b[38;5;241m.\u001b[39mloads(\u001b[38;5;28mself\u001b[39m\u001b[38;5;241m.\u001b[39mtext, \u001b[38;5;241m*\u001b[39m\u001b[38;5;241m*\u001b[39mkwargs)\n\u001b[0;32m    975\u001b[0m \u001b[38;5;28;01mexcept\u001b[39;00m JSONDecodeError \u001b[38;5;28;01mas\u001b[39;00m e:\n\u001b[0;32m    976\u001b[0m     \u001b[38;5;66;03m# Catch JSON-related errors and raise as requests.JSONDecodeError\u001b[39;00m\n\u001b[0;32m    977\u001b[0m     \u001b[38;5;66;03m# This aliases json.JSONDecodeError and simplejson.JSONDecodeError\u001b[39;00m\n\u001b[1;32m--> 978\u001b[0m     \u001b[38;5;28;01mraise\u001b[39;00m RequestsJSONDecodeError(e\u001b[38;5;241m.\u001b[39mmsg, e\u001b[38;5;241m.\u001b[39mdoc, e\u001b[38;5;241m.\u001b[39mpos)\n",
            "\u001b[1;31mJSONDecodeError\u001b[0m: Expecting value: line 1 column 1 (char 0)"
          ]
        }
      ],
      "source": [
        "banyumas.get_ingredients_cost(\"Jagung\")"
      ]
    },
    {
      "cell_type": "markdown",
      "metadata": {},
      "source": []
    }
  ],
  "metadata": {
    "colab": {
      "provenance": []
    },
    "kernelspec": {
      "display_name": "pytorch",
      "language": "python",
      "name": "python3"
    },
    "language_info": {
      "codemirror_mode": {
        "name": "ipython",
        "version": 3
      },
      "file_extension": ".py",
      "mimetype": "text/x-python",
      "name": "python",
      "nbconvert_exporter": "python",
      "pygments_lexer": "ipython3",
      "version": "3.10.13"
    }
  },
  "nbformat": 4,
  "nbformat_minor": 0
}
